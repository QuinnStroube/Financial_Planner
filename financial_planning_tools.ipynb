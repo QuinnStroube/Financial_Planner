{
 "cells": [
  {
   "cell_type": "markdown",
   "metadata": {
    "tags": []
   },
   "source": [
    "# Financial Planning with APIs and Simulations\n",
    "\n",
    "In this Challenge, you’ll create two financial analysis tools by using a single Jupyter notebook:\n",
    "\n",
    "Part 1: A financial planner for emergencies. The members will be able to use this tool to visualize their current savings. The members can then determine if they have enough reserves for an emergency fund.\n",
    "\n",
    "Part 2: A financial planner for retirement. This tool will forecast the performance of their retirement portfolio in 30 years. To do this, the tool will make an Alpaca API call via the Alpaca SDK to get historical price data for use in Monte Carlo simulations.\n",
    "\n",
    "You’ll use the information from the Monte Carlo simulation to answer questions about the portfolio in your Jupyter notebook.\n",
    "\n"
   ]
  },
  {
   "cell_type": "code",
   "execution_count": 1,
   "metadata": {},
   "outputs": [],
   "source": [
    "# Import the required libraries and dependencies\n",
    "import os\n",
    "import requests\n",
    "import json\n",
    "import pandas as pd\n",
    "from dotenv import load_dotenv\n",
    "import alpaca_trade_api as tradeapi\n",
    "from MCForecastTools import MCSimulation\n",
    "from alpaca_trade_api.rest import REST,TimeFrame\n",
    "\n",
    "%matplotlib inline"
   ]
  },
  {
   "cell_type": "code",
   "execution_count": 2,
   "metadata": {},
   "outputs": [
    {
     "data": {
      "text/plain": [
       "True"
      ]
     },
     "execution_count": 2,
     "metadata": {},
     "output_type": "execute_result"
    }
   ],
   "source": [
    "# Load the environment variables from the .env file\n",
    "#by calling the load_dotenv function\n",
    "load_dotenv()"
   ]
  },
  {
   "cell_type": "markdown",
   "metadata": {},
   "source": [
    "## Part 1: Create a Financial Planner for Emergencies"
   ]
  },
  {
   "cell_type": "markdown",
   "metadata": {
    "tags": []
   },
   "source": [
    "### Evaluate the Cryptocurrency Wallet by Using the Requests Library\n",
    "\n",
    "In this section, you’ll determine the current value of a member’s cryptocurrency wallet. You’ll collect the current prices for the Bitcoin and Ethereum cryptocurrencies by using the Python Requests library. For the prototype, you’ll assume that the member holds the 1.2 Bitcoins (BTC) and 5.3 Ethereum coins (ETH). To do all this, complete the following steps:\n",
    "\n",
    "1. Create a variable named `monthly_income`, and set its value to `12000`.\n",
    "\n",
    "2. Use the Requests library to get the current price (in US dollars) of Bitcoin (BTC) and Ethereum (ETH) by using the API endpoints that the starter code supplies.\n",
    "\n",
    "3. Navigate the JSON response object to access the current price of each coin, and store each in a variable.\n",
    "\n",
    "    > **Hint** Note the specific identifier for each cryptocurrency in the API JSON response. The Bitcoin identifier is `1`, and the Ethereum identifier is `1027`.\n",
    "\n",
    "4. Calculate the value, in US dollars, of the current amount of each cryptocurrency and of the entire cryptocurrency wallet.\n",
    "\n"
   ]
  },
  {
   "cell_type": "code",
   "execution_count": 3,
   "metadata": {},
   "outputs": [],
   "source": [
    "# The current number of coins for each cryptocurrency asset held in the portfolio.\n",
    "btc_coins = 1.2\n",
    "eth_coins = 5.3"
   ]
  },
  {
   "cell_type": "markdown",
   "metadata": {},
   "source": [
    "#### Step 1: Create a variable named `monthly_income`, and set its value to `12000`."
   ]
  },
  {
   "cell_type": "code",
   "execution_count": 4,
   "metadata": {},
   "outputs": [],
   "source": [
    "# The monthly amount for the member's household income\n",
    "monthly_income = 12000\n"
   ]
  },
  {
   "cell_type": "markdown",
   "metadata": {},
   "source": [
    "#### Review the endpoint URLs for the API calls to Free Crypto API in order to get the current pricing information for both BTC and ETH."
   ]
  },
  {
   "cell_type": "code",
   "execution_count": 5,
   "metadata": {},
   "outputs": [],
   "source": [
    "# The Free Crypto API Call endpoint URLs for the held cryptocurrency assets\n",
    "btc_url = \"https://api.alternative.me/v2/ticker/Bitcoin/?convert=USD\"\n",
    "eth_url = \"https://api.alternative.me/v2/ticker/Ethereum/?convert=USD\""
   ]
  },
  {
   "cell_type": "markdown",
   "metadata": {},
   "source": [
    "#### Step 2. Use the Requests library to get the current price (in US dollars) of Bitcoin (BTC) and Ethereum (ETH) by using the API endpoints that the starter code supplied."
   ]
  },
  {
   "cell_type": "code",
   "execution_count": 6,
   "metadata": {},
   "outputs": [
    {
     "name": "stdout",
     "output_type": "stream",
     "text": [
      "{\n",
      "    \"data\": {\n",
      "        \"1\": {\n",
      "            \"circulating_supply\": 19093581,\n",
      "            \"id\": 1,\n",
      "            \"last_updated\": 1657826343,\n",
      "            \"max_supply\": 21000000,\n",
      "            \"name\": \"Bitcoin\",\n",
      "            \"quotes\": {\n",
      "                \"USD\": {\n",
      "                    \"market_cap\": 395246059031,\n",
      "                    \"percent_change_1h\": 0.0841514473557188,\n",
      "                    \"percent_change_24h\": 4.69296638211275,\n",
      "                    \"percent_change_7d\": 0.698089879364508,\n",
      "                    \"percentage_change_1h\": 0.0841514473557188,\n",
      "                    \"percentage_change_24h\": 4.69296638211275,\n",
      "                    \"percentage_change_7d\": 0.698089879364508,\n",
      "                    \"price\": 20710.0,\n",
      "                    \"volume_24h\": 28085982446\n",
      "                }\n",
      "            },\n",
      "            \"rank\": 1,\n",
      "            \"symbol\": \"BTC\",\n",
      "            \"total_supply\": 19093581,\n",
      "            \"website_slug\": \"bitcoin\"\n",
      "        }\n",
      "    },\n",
      "    \"metadata\": {\n",
      "        \"error\": null,\n",
      "        \"num_cryptocurrencies\": 3116,\n",
      "        \"timestamp\": 1657826343\n",
      "    }\n",
      "}\n"
     ]
    }
   ],
   "source": [
    "# Using the Python requests library, make an API call to access the current price of BTC\n",
    "btc_response = requests.get(btc_url).json()\n",
    "\n",
    "# Use the json.dumps function to review the response data from the API call\n",
    "# Use the indent and sort_keys parameters to make the response object readable\n",
    "print(json.dumps(btc_response, indent=4, sort_keys=True))\n"
   ]
  },
  {
   "cell_type": "code",
   "execution_count": 7,
   "metadata": {},
   "outputs": [
    {
     "name": "stdout",
     "output_type": "stream",
     "text": [
      "{\n",
      "    \"data\": {\n",
      "        \"1027\": {\n",
      "            \"circulating_supply\": 119680583,\n",
      "            \"id\": 1027,\n",
      "            \"last_updated\": 1657826342,\n",
      "            \"max_supply\": 119680583,\n",
      "            \"name\": \"Ethereum\",\n",
      "            \"quotes\": {\n",
      "                \"USD\": {\n",
      "                    \"market_cap\": 143051857626,\n",
      "                    \"percent_change_1h\": -0.201458583330473,\n",
      "                    \"percent_change_24h\": 9.85753933277788,\n",
      "                    \"percent_change_7d\": 0.399851372582374,\n",
      "                    \"percentage_change_1h\": -0.201458583330473,\n",
      "                    \"percentage_change_24h\": 9.85753933277788,\n",
      "                    \"percentage_change_7d\": 0.399851372582374,\n",
      "                    \"price\": 1193.48,\n",
      "                    \"volume_24h\": 16184490957\n",
      "                }\n",
      "            },\n",
      "            \"rank\": 2,\n",
      "            \"symbol\": \"ETH\",\n",
      "            \"total_supply\": 119680583,\n",
      "            \"website_slug\": \"ethereum\"\n",
      "        }\n",
      "    },\n",
      "    \"metadata\": {\n",
      "        \"error\": null,\n",
      "        \"num_cryptocurrencies\": 3116,\n",
      "        \"timestamp\": 1657826342\n",
      "    }\n",
      "}\n"
     ]
    }
   ],
   "source": [
    "# Using the Python requests library, make an API call to access the current price ETH\n",
    "eth_response = requests.get(eth_url).json()\n",
    "\n",
    "# Use the json.dumps function to review the response data from the API call\n",
    "# Use the indent and sort_keys parameters to make the response object readable\n",
    "print(json.dumps(eth_response, indent=4, sort_keys=True))"
   ]
  },
  {
   "cell_type": "markdown",
   "metadata": {},
   "source": [
    "#### Step 3: Navigate the JSON response object to access the current price of each coin, and store each in a variable."
   ]
  },
  {
   "cell_type": "code",
   "execution_count": 8,
   "metadata": {},
   "outputs": [
    {
     "data": {
      "text/plain": [
       "20710.0"
      ]
     },
     "execution_count": 8,
     "metadata": {},
     "output_type": "execute_result"
    }
   ],
   "source": [
    "# Navigate the BTC response object to access the current price of BTC\n",
    "btc_price = btc_response['data']['1']['quotes']['USD']['price']\n",
    "\n",
    "# Print the current price of BTC\n",
    "btc_price"
   ]
  },
  {
   "cell_type": "code",
   "execution_count": 9,
   "metadata": {},
   "outputs": [
    {
     "data": {
      "text/plain": [
       "1193.48"
      ]
     },
     "execution_count": 9,
     "metadata": {},
     "output_type": "execute_result"
    }
   ],
   "source": [
    "# Navigate the BTC response object to access the current price of ETH\n",
    "eth_price = eth_response['data']['1027']['quotes']['USD']['price']\n",
    "\n",
    "# Print the current price of ETH\n",
    "eth_price\n"
   ]
  },
  {
   "cell_type": "markdown",
   "metadata": {},
   "source": [
    "### Step 4: Calculate the value, in US dollars, of the current amount of each cryptocurrency and of the entire cryptocurrency wallet."
   ]
  },
  {
   "cell_type": "code",
   "execution_count": 10,
   "metadata": {},
   "outputs": [
    {
     "data": {
      "text/plain": [
       "24852.0"
      ]
     },
     "execution_count": 10,
     "metadata": {},
     "output_type": "execute_result"
    }
   ],
   "source": [
    "# Compute the current value of the BTC holding \n",
    "btc_value = btc_price * btc_coins\n",
    "\n",
    "# Print current value of your holding in BTC\n",
    "btc_value\n"
   ]
  },
  {
   "cell_type": "code",
   "execution_count": 11,
   "metadata": {},
   "outputs": [
    {
     "data": {
      "text/plain": [
       "6325.4439999999995"
      ]
     },
     "execution_count": 11,
     "metadata": {},
     "output_type": "execute_result"
    }
   ],
   "source": [
    "# Compute the current value of the ETH holding \n",
    "eth_value = eth_price * eth_coins\n",
    "\n",
    "# Print current value of your holding in ETH\n",
    "eth_value\n"
   ]
  },
  {
   "cell_type": "code",
   "execution_count": 12,
   "metadata": {},
   "outputs": [
    {
     "data": {
      "text/plain": [
       "31177.444"
      ]
     },
     "execution_count": 12,
     "metadata": {},
     "output_type": "execute_result"
    }
   ],
   "source": [
    "# Compute the total value of the cryptocurrency wallet\n",
    "# Add the value of the BTC holding to the value of the ETH holding\n",
    "total_crypto_wallet = btc_value + eth_value\n",
    "\n",
    "# Print current cryptocurrency wallet balance\n",
    "total_crypto_wallet\n"
   ]
  },
  {
   "cell_type": "markdown",
   "metadata": {},
   "source": [
    "### Evaluate the Stock and Bond Holdings by Using the Alpaca SDK\n",
    "\n",
    "In this section, you’ll determine the current value of a member’s stock and bond holdings. You’ll make an API call to Alpaca via the Alpaca SDK to get the current closing prices of the SPDR S&P 500 ETF Trust (ticker: SPY) and of the iShares Core US Aggregate Bond ETF (ticker: AGG). For the prototype, assume that the member holds 110 shares of SPY, which represents the stock portion of their portfolio, and 200 shares of AGG, which represents the bond portion. To do all this, complete the following steps:\n",
    "\n",
    "1. In the `Starter_Code` folder, create an environment file (`.env`) to store the values of your Alpaca API key and Alpaca secret key.\n",
    "\n",
    "2. Set the variables for the Alpaca API and secret keys. Using the Alpaca SDK, create the Alpaca `tradeapi.REST` object. In this object, include the parameters for the Alpaca API key, the secret key, and the version number.\n",
    "\n",
    "3. Set the following parameters for the Alpaca API call:\n",
    "\n",
    "    - `tickers`: Use the tickers for the member’s stock and bond holdings.\n",
    "\n",
    "    - `timeframe`: Use a time frame of one day.\n",
    "\n",
    "    - `start_date` and `end_date`: Use the same date for these parameters, and format them with the date of the previous weekday (or `2020-08-07`). This is because you want the one closing price for the most-recent trading day.\n",
    "\n",
    "4. Get the current closing prices for `SPY` and `AGG` by using the Alpaca `get_bars` function. Format the response as a Pandas DataFrame by including the `df` property at the end of the `get_bars` function.\n",
    "\n",
    "5. Navigating the Alpaca response DataFrame, select the `SPY` and `AGG` closing prices, and store them as variables.\n",
    "\n",
    "6. Calculate the value, in US dollars, of the current amount of shares in each of the stock and bond portions of the portfolio, and print the results.\n"
   ]
  },
  {
   "cell_type": "markdown",
   "metadata": {},
   "source": [
    "#### Review the total number of shares held in both (SPY) and (AGG)."
   ]
  },
  {
   "cell_type": "code",
   "execution_count": 13,
   "metadata": {},
   "outputs": [],
   "source": [
    "# Current amount of shares held in both the stock (SPY) and bond (AGG) portion of the portfolio.\n",
    "spy_shares = 110\n",
    "agg_shares = 200\n"
   ]
  },
  {
   "cell_type": "markdown",
   "metadata": {},
   "source": [
    "#### Step 1: In the `Starter_Code` folder, create an environment file (`.env`) to store the values of your Alpaca API key and Alpaca secret key."
   ]
  },
  {
   "cell_type": "markdown",
   "metadata": {},
   "source": [
    "#### Step 2: Set the variables for the Alpaca API and secret keys. Using the Alpaca SDK, create the Alpaca `tradeapi.REST` object. In this object, include the parameters for the Alpaca API key, the secret key, and the version number."
   ]
  },
  {
   "cell_type": "code",
   "execution_count": 14,
   "metadata": {},
   "outputs": [],
   "source": [
    "# Set the variables for the Alpaca API and secret keys\n",
    "APCA_API_KEY_ID = os.getenv('ALPACA_API_KEY')\n",
    "APCA_API_SECRET_KEY = os.getenv('ALPACA_SECRET_KEY')\n",
    "\n",
    "# Create the Alpaca tradeapi.REST object\n",
    "alpaca = tradeapi.REST(\n",
    "    APCA_API_KEY_ID,\n",
    "    APCA_API_SECRET_KEY,\n",
    "    api_version='v2')\n"
   ]
  },
  {
   "cell_type": "markdown",
   "metadata": {},
   "source": [
    "#### Step 3: Set the following parameters for the Alpaca API call:\n",
    "\n",
    "- `tickers`: Use the tickers for the member’s stock and bond holdings.\n",
    "\n",
    "- `timeframe`: Use a time frame of one day.\n",
    "\n",
    "- `start_date` and `end_date`: Use the same date for these parameters, and format them with the date of the previous weekday (or `2020-08-07`). This is because you want the one closing price for the most-recent trading day.\n"
   ]
  },
  {
   "cell_type": "code",
   "execution_count": 87,
   "metadata": {},
   "outputs": [],
   "source": [
    "# Set the tickers for both the bond and stock portion of the portfolio\n",
    "tickers = ['SPY','AGG']\n",
    "\n",
    "# Set timeframe to 1Day\n",
    "timeframe = '1Day'\n",
    "\n",
    "# Format current date as ISO format\n",
    "# Set both the start and end date at the date of your prior weekday \n",
    "# This will give you the closing price of the previous trading day\n",
    "# Alternatively you can use a start and end date of 2020-08-07\n",
    "start = pd.Timestamp('2022-07-13', tz='America/New_York').isoformat()\n",
    "end = pd.Timestamp('2022-07-13', tz='America/New_York').isoformat()\n"
   ]
  },
  {
   "cell_type": "markdown",
   "metadata": {},
   "source": [
    "#### Step 4: Get the current closing prices for `SPY` and `AGG` by using the Alpaca `get_bars` function. Format the response as a Pandas DataFrame by including the `df` property at the end of the `get_bars` function."
   ]
  },
  {
   "cell_type": "code",
   "execution_count": 88,
   "metadata": {},
   "outputs": [
    {
     "data": {
      "text/html": [
       "<div>\n",
       "<style scoped>\n",
       "    .dataframe tbody tr th:only-of-type {\n",
       "        vertical-align: middle;\n",
       "    }\n",
       "\n",
       "    .dataframe tbody tr th {\n",
       "        vertical-align: top;\n",
       "    }\n",
       "\n",
       "    .dataframe thead tr th {\n",
       "        text-align: left;\n",
       "    }\n",
       "\n",
       "    .dataframe thead tr:last-of-type th {\n",
       "        text-align: right;\n",
       "    }\n",
       "</style>\n",
       "<table border=\"1\" class=\"dataframe\">\n",
       "  <thead>\n",
       "    <tr>\n",
       "      <th></th>\n",
       "      <th colspan=\"7\" halign=\"left\">SPY</th>\n",
       "      <th colspan=\"7\" halign=\"left\">AGG</th>\n",
       "    </tr>\n",
       "    <tr>\n",
       "      <th></th>\n",
       "      <th>open</th>\n",
       "      <th>high</th>\n",
       "      <th>low</th>\n",
       "      <th>close</th>\n",
       "      <th>volume</th>\n",
       "      <th>trade_count</th>\n",
       "      <th>vwap</th>\n",
       "      <th>open</th>\n",
       "      <th>high</th>\n",
       "      <th>low</th>\n",
       "      <th>close</th>\n",
       "      <th>volume</th>\n",
       "      <th>trade_count</th>\n",
       "      <th>vwap</th>\n",
       "    </tr>\n",
       "    <tr>\n",
       "      <th>timestamp</th>\n",
       "      <th></th>\n",
       "      <th></th>\n",
       "      <th></th>\n",
       "      <th></th>\n",
       "      <th></th>\n",
       "      <th></th>\n",
       "      <th></th>\n",
       "      <th></th>\n",
       "      <th></th>\n",
       "      <th></th>\n",
       "      <th></th>\n",
       "      <th></th>\n",
       "      <th></th>\n",
       "      <th></th>\n",
       "    </tr>\n",
       "  </thead>\n",
       "  <tbody>\n",
       "    <tr>\n",
       "      <th>2022-07-13 04:00:00+00:00</th>\n",
       "      <td>375.09</td>\n",
       "      <td>381.92</td>\n",
       "      <td>374.658</td>\n",
       "      <td>378.83</td>\n",
       "      <td>83575452</td>\n",
       "      <td>671953</td>\n",
       "      <td>378.819688</td>\n",
       "      <td>101.23</td>\n",
       "      <td>102.24</td>\n",
       "      <td>101.19</td>\n",
       "      <td>102.21</td>\n",
       "      <td>6514247</td>\n",
       "      <td>26716</td>\n",
       "      <td>101.977478</td>\n",
       "    </tr>\n",
       "  </tbody>\n",
       "</table>\n",
       "</div>"
      ],
      "text/plain": [
       "                              SPY                                     \\\n",
       "                             open    high      low   close    volume   \n",
       "timestamp                                                              \n",
       "2022-07-13 04:00:00+00:00  375.09  381.92  374.658  378.83  83575452   \n",
       "\n",
       "                                                      AGG                  \\\n",
       "                          trade_count        vwap    open    high     low   \n",
       "timestamp                                                                   \n",
       "2022-07-13 04:00:00+00:00      671953  378.819688  101.23  102.24  101.19   \n",
       "\n",
       "                                                                    \n",
       "                            close   volume trade_count        vwap  \n",
       "timestamp                                                           \n",
       "2022-07-13 04:00:00+00:00  102.21  6514247       26716  101.977478  "
      ]
     },
     "execution_count": 88,
     "metadata": {},
     "output_type": "execute_result"
    }
   ],
   "source": [
    "# Use the Alpaca get_bars function to get current closing prices the portfolio\n",
    "# Be sure to set the `df` property after the function to format the response object as a DataFrame\n",
    "portfolio_df = alpaca.get_bars(\n",
    "                    tickers, \n",
    "                    timeframe, \n",
    "                    start = start, \n",
    "                    end = end ,\n",
    "                    ).df\n",
    "\n",
    "# Reorganize the DataFrame\n",
    "# Separate ticker data\n",
    "SPY = portfolio_df[portfolio_df['symbol']=='SPY'].drop('symbol',axis=1)\n",
    "AGG = portfolio_df[portfolio_df['symbol']=='AGG'].drop('symbol',axis=1)\n",
    "# Concatenate the ticker DataFrames\n",
    "portfolio_df = pd.concat([SPY,AGG],axis=1, keys=['SPY','AGG'])\n",
    "\n",
    "# Review the first 5 rows of the Alpaca DataFrame\n",
    "portfolio_df.head()\n"
   ]
  },
  {
   "cell_type": "markdown",
   "metadata": {},
   "source": [
    "#### Step 5: Navigating the Alpaca response DataFrame, select the `SPY` and `AGG` closing prices, and store them as variables."
   ]
  },
  {
   "cell_type": "code",
   "execution_count": 89,
   "metadata": {},
   "outputs": [
    {
     "data": {
      "text/plain": [
       "timestamp\n",
       "2022-07-13 04:00:00+00:00    102.21\n",
       "Name: close, dtype: float64"
      ]
     },
     "execution_count": 89,
     "metadata": {},
     "output_type": "execute_result"
    }
   ],
   "source": [
    "# Access the closing price for AGG from the Alpaca DataFrame\n",
    "# Converting the value to a floating point number\n",
    "agg_close_price = portfolio_df['AGG']['close']\n",
    "\n",
    "# Print the AGG closing price\n",
    "agg_close_price\n"
   ]
  },
  {
   "cell_type": "code",
   "execution_count": 90,
   "metadata": {},
   "outputs": [
    {
     "data": {
      "text/plain": [
       "timestamp\n",
       "2022-07-13 04:00:00+00:00    378.83\n",
       "Name: close, dtype: float64"
      ]
     },
     "execution_count": 90,
     "metadata": {},
     "output_type": "execute_result"
    }
   ],
   "source": [
    "# Access the closing price for SPY from the Alpaca DataFrame\n",
    "# Converting the value to a floating point number\n",
    "spy_close_price = portfolio_df['SPY']['close']\n",
    "\n",
    "# Print the SPY closing price\n",
    "spy_close_price\n"
   ]
  },
  {
   "cell_type": "markdown",
   "metadata": {},
   "source": [
    "#### Step 6: Calculate the value, in US dollars, of the current amount of shares in each of the stock and bond portions of the portfolio, and print the results."
   ]
  },
  {
   "cell_type": "code",
   "execution_count": 91,
   "metadata": {},
   "outputs": [
    {
     "data": {
      "text/plain": [
       "timestamp\n",
       "2022-07-13 04:00:00+00:00    20442.0\n",
       "Name: close, dtype: float64"
      ]
     },
     "execution_count": 91,
     "metadata": {},
     "output_type": "execute_result"
    }
   ],
   "source": [
    "# Calculate the current value of the bond portion of the portfolio\n",
    "agg_value = agg_close_price * agg_shares\n",
    "\n",
    "# Print the current value of the bond portfolio\n",
    "agg_value\n"
   ]
  },
  {
   "cell_type": "code",
   "execution_count": 92,
   "metadata": {},
   "outputs": [
    {
     "data": {
      "text/plain": [
       "timestamp\n",
       "2022-07-13 04:00:00+00:00    41671.3\n",
       "Name: close, dtype: float64"
      ]
     },
     "execution_count": 92,
     "metadata": {},
     "output_type": "execute_result"
    }
   ],
   "source": [
    "# Calculate the current value of the stock portion of the portfolio\n",
    "spy_value = spy_close_price * spy_shares\n",
    "\n",
    "# Print the current value of the stock portfolio\n",
    "spy_value"
   ]
  },
  {
   "cell_type": "code",
   "execution_count": 93,
   "metadata": {},
   "outputs": [
    {
     "data": {
      "text/plain": [
       "timestamp\n",
       "2022-07-13 04:00:00+00:00    62113.3\n",
       "Name: close, dtype: float64"
      ]
     },
     "execution_count": 93,
     "metadata": {},
     "output_type": "execute_result"
    }
   ],
   "source": [
    "# Calculate the total value of the stock and bond portion of the portfolio\n",
    "total_stocks_bonds = agg_value + spy_value\n",
    "\n",
    "# Print the current balance of the stock and bond portion of the portfolio\n",
    "total_stocks_bonds\n"
   ]
  },
  {
   "cell_type": "code",
   "execution_count": 94,
   "metadata": {},
   "outputs": [
    {
     "data": {
      "text/plain": [
       "timestamp\n",
       "2022-07-13 04:00:00+00:00    93290.744\n",
       "Name: close, dtype: float64"
      ]
     },
     "execution_count": 94,
     "metadata": {},
     "output_type": "execute_result"
    }
   ],
   "source": [
    "# Calculate the total value of the member's entire savings portfolio\n",
    "# Add the value of the cryptocurrency walled to the value of the total stocks and bonds\n",
    "total_portfolio = total_stocks_bonds + total_crypto_wallet\n",
    "\n",
    "# Print current cryptocurrency wallet balance\n",
    "total_portfolio\n"
   ]
  },
  {
   "cell_type": "markdown",
   "metadata": {},
   "source": [
    "### Evaluate the Emergency Fund\n",
    "\n",
    "In this section, you’ll use the valuations for the cryptocurrency wallet and for the stock and bond portions of the portfolio to determine if the credit union member has enough savings to build an emergency fund into their financial plan. To do this, complete the following steps:\n",
    "\n",
    "1. Create a Python list named `savings_data` that has two elements. The first element contains the total value of the cryptocurrency wallet. The second element contains the total value of the stock and bond portions of the portfolio.\n",
    "\n",
    "2. Use the `savings_data` list to create a Pandas DataFrame named `savings_df`, and then display this DataFrame. The function to create the DataFrame should take the following three parameters:\n",
    "\n",
    "    - `savings_data`: Use the list that you just created.\n",
    "\n",
    "    - `columns`: Set this parameter equal to a Python list with a single value called `amount`.\n",
    "\n",
    "    - `index`: Set this parameter equal to a Python list with the values of `crypto` and `stock/bond`.\n",
    "\n",
    "3. Use the `savings_df` DataFrame to plot a pie chart that visualizes the composition of the member’s portfolio. The y-axis of the pie chart uses `amount`. Be sure to add a title.\n",
    "\n",
    "4. Using Python, determine if the current portfolio has enough to create an emergency fund as part of the member’s financial plan. Ideally, an emergency fund should equal to three times the member’s monthly income. To do this, implement the following steps:\n",
    "\n",
    "    1. Create a variable named `emergency_fund_value`, and set it equal to three times the value of the member’s `monthly_income` of $12000. (You set this earlier in Part 1).\n",
    "\n",
    "    2. Create a series of three if statements to determine if the member’s total portfolio is large enough to fund the emergency portfolio:\n",
    "\n",
    "        1. If the total portfolio value is greater than the emergency fund value, display a message congratulating the member for having enough money in this fund.\n",
    "\n",
    "        2. Else if the total portfolio value is equal to the emergency fund value, display a message congratulating the member on reaching this important financial goal.\n",
    "\n",
    "        3. Else the total portfolio is less than the emergency fund value, so display a message showing how many dollars away the member is from reaching the goal. (Subtract the total portfolio value from the emergency fund value.)\n"
   ]
  },
  {
   "cell_type": "markdown",
   "metadata": {},
   "source": [
    "#### Step 1: Create a Python list named `savings_data` that has two elements. The first element contains the total value of the cryptocurrency wallet. The second element contains the total value of the stock and bond portions of the portfolio."
   ]
  },
  {
   "cell_type": "code",
   "execution_count": 95,
   "metadata": {},
   "outputs": [
    {
     "ename": "KeyError",
     "evalue": "\"['timestamp'] not found in axis\"",
     "output_type": "error",
     "traceback": [
      "\u001b[1;31m---------------------------------------------------------------------------\u001b[0m",
      "\u001b[1;31mKeyError\u001b[0m                                  Traceback (most recent call last)",
      "\u001b[1;32m~\\AppData\\Local\\Temp\\ipykernel_9928\\438749557.py\u001b[0m in \u001b[0;36m<module>\u001b[1;34m\u001b[0m\n\u001b[0;32m      1\u001b[0m \u001b[1;31m# Consolidate financial assets data into a Python list\u001b[0m\u001b[1;33m\u001b[0m\u001b[1;33m\u001b[0m\u001b[1;33m\u001b[0m\u001b[0m\n\u001b[1;32m----> 2\u001b[1;33m \u001b[0mtotal_stocks_bonds\u001b[0m \u001b[1;33m=\u001b[0m \u001b[0mtotal_stocks_bonds\u001b[0m\u001b[1;33m.\u001b[0m\u001b[0mdrop\u001b[0m\u001b[1;33m(\u001b[0m\u001b[1;34m'timestamp'\u001b[0m\u001b[1;33m)\u001b[0m\u001b[1;33m\u001b[0m\u001b[1;33m\u001b[0m\u001b[0m\n\u001b[0m\u001b[0;32m      3\u001b[0m \u001b[0mtotal_stocks_bonds\u001b[0m\u001b[1;33m\u001b[0m\u001b[1;33m\u001b[0m\u001b[0m\n\u001b[0;32m      4\u001b[0m \u001b[1;31m# savings_data = [total_crypto_wallet,total_stocks_bonds]\u001b[0m\u001b[1;33m\u001b[0m\u001b[1;33m\u001b[0m\u001b[1;33m\u001b[0m\u001b[0m\n\u001b[0;32m      5\u001b[0m \u001b[1;33m\u001b[0m\u001b[0m\n",
      "\u001b[1;32m~\\anaconda3\\envs\\dev\\lib\\site-packages\\pandas\\util\\_decorators.py\u001b[0m in \u001b[0;36mwrapper\u001b[1;34m(*args, **kwargs)\u001b[0m\n\u001b[0;32m    309\u001b[0m                     \u001b[0mstacklevel\u001b[0m\u001b[1;33m=\u001b[0m\u001b[0mstacklevel\u001b[0m\u001b[1;33m,\u001b[0m\u001b[1;33m\u001b[0m\u001b[1;33m\u001b[0m\u001b[0m\n\u001b[0;32m    310\u001b[0m                 )\n\u001b[1;32m--> 311\u001b[1;33m             \u001b[1;32mreturn\u001b[0m \u001b[0mfunc\u001b[0m\u001b[1;33m(\u001b[0m\u001b[1;33m*\u001b[0m\u001b[0margs\u001b[0m\u001b[1;33m,\u001b[0m \u001b[1;33m**\u001b[0m\u001b[0mkwargs\u001b[0m\u001b[1;33m)\u001b[0m\u001b[1;33m\u001b[0m\u001b[1;33m\u001b[0m\u001b[0m\n\u001b[0m\u001b[0;32m    312\u001b[0m \u001b[1;33m\u001b[0m\u001b[0m\n\u001b[0;32m    313\u001b[0m         \u001b[1;32mreturn\u001b[0m \u001b[0mwrapper\u001b[0m\u001b[1;33m\u001b[0m\u001b[1;33m\u001b[0m\u001b[0m\n",
      "\u001b[1;32m~\\anaconda3\\envs\\dev\\lib\\site-packages\\pandas\\core\\series.py\u001b[0m in \u001b[0;36mdrop\u001b[1;34m(self, labels, axis, index, columns, level, inplace, errors)\u001b[0m\n\u001b[0;32m   4684\u001b[0m             \u001b[0mlevel\u001b[0m\u001b[1;33m=\u001b[0m\u001b[0mlevel\u001b[0m\u001b[1;33m,\u001b[0m\u001b[1;33m\u001b[0m\u001b[1;33m\u001b[0m\u001b[0m\n\u001b[0;32m   4685\u001b[0m             \u001b[0minplace\u001b[0m\u001b[1;33m=\u001b[0m\u001b[0minplace\u001b[0m\u001b[1;33m,\u001b[0m\u001b[1;33m\u001b[0m\u001b[1;33m\u001b[0m\u001b[0m\n\u001b[1;32m-> 4686\u001b[1;33m             \u001b[0merrors\u001b[0m\u001b[1;33m=\u001b[0m\u001b[0merrors\u001b[0m\u001b[1;33m,\u001b[0m\u001b[1;33m\u001b[0m\u001b[1;33m\u001b[0m\u001b[0m\n\u001b[0m\u001b[0;32m   4687\u001b[0m         )\n\u001b[0;32m   4688\u001b[0m \u001b[1;33m\u001b[0m\u001b[0m\n",
      "\u001b[1;32m~\\anaconda3\\envs\\dev\\lib\\site-packages\\pandas\\core\\generic.py\u001b[0m in \u001b[0;36mdrop\u001b[1;34m(self, labels, axis, index, columns, level, inplace, errors)\u001b[0m\n\u001b[0;32m   4148\u001b[0m         \u001b[1;32mfor\u001b[0m \u001b[0maxis\u001b[0m\u001b[1;33m,\u001b[0m \u001b[0mlabels\u001b[0m \u001b[1;32min\u001b[0m \u001b[0maxes\u001b[0m\u001b[1;33m.\u001b[0m\u001b[0mitems\u001b[0m\u001b[1;33m(\u001b[0m\u001b[1;33m)\u001b[0m\u001b[1;33m:\u001b[0m\u001b[1;33m\u001b[0m\u001b[1;33m\u001b[0m\u001b[0m\n\u001b[0;32m   4149\u001b[0m             \u001b[1;32mif\u001b[0m \u001b[0mlabels\u001b[0m \u001b[1;32mis\u001b[0m \u001b[1;32mnot\u001b[0m \u001b[1;32mNone\u001b[0m\u001b[1;33m:\u001b[0m\u001b[1;33m\u001b[0m\u001b[1;33m\u001b[0m\u001b[0m\n\u001b[1;32m-> 4150\u001b[1;33m                 \u001b[0mobj\u001b[0m \u001b[1;33m=\u001b[0m \u001b[0mobj\u001b[0m\u001b[1;33m.\u001b[0m\u001b[0m_drop_axis\u001b[0m\u001b[1;33m(\u001b[0m\u001b[0mlabels\u001b[0m\u001b[1;33m,\u001b[0m \u001b[0maxis\u001b[0m\u001b[1;33m,\u001b[0m \u001b[0mlevel\u001b[0m\u001b[1;33m=\u001b[0m\u001b[0mlevel\u001b[0m\u001b[1;33m,\u001b[0m \u001b[0merrors\u001b[0m\u001b[1;33m=\u001b[0m\u001b[0merrors\u001b[0m\u001b[1;33m)\u001b[0m\u001b[1;33m\u001b[0m\u001b[1;33m\u001b[0m\u001b[0m\n\u001b[0m\u001b[0;32m   4151\u001b[0m \u001b[1;33m\u001b[0m\u001b[0m\n\u001b[0;32m   4152\u001b[0m         \u001b[1;32mif\u001b[0m \u001b[0minplace\u001b[0m\u001b[1;33m:\u001b[0m\u001b[1;33m\u001b[0m\u001b[1;33m\u001b[0m\u001b[0m\n",
      "\u001b[1;32m~\\anaconda3\\envs\\dev\\lib\\site-packages\\pandas\\core\\generic.py\u001b[0m in \u001b[0;36m_drop_axis\u001b[1;34m(self, labels, axis, level, errors)\u001b[0m\n\u001b[0;32m   4183\u001b[0m                 \u001b[0mnew_axis\u001b[0m \u001b[1;33m=\u001b[0m \u001b[0maxis\u001b[0m\u001b[1;33m.\u001b[0m\u001b[0mdrop\u001b[0m\u001b[1;33m(\u001b[0m\u001b[0mlabels\u001b[0m\u001b[1;33m,\u001b[0m \u001b[0mlevel\u001b[0m\u001b[1;33m=\u001b[0m\u001b[0mlevel\u001b[0m\u001b[1;33m,\u001b[0m \u001b[0merrors\u001b[0m\u001b[1;33m=\u001b[0m\u001b[0merrors\u001b[0m\u001b[1;33m)\u001b[0m\u001b[1;33m\u001b[0m\u001b[1;33m\u001b[0m\u001b[0m\n\u001b[0;32m   4184\u001b[0m             \u001b[1;32melse\u001b[0m\u001b[1;33m:\u001b[0m\u001b[1;33m\u001b[0m\u001b[1;33m\u001b[0m\u001b[0m\n\u001b[1;32m-> 4185\u001b[1;33m                 \u001b[0mnew_axis\u001b[0m \u001b[1;33m=\u001b[0m \u001b[0maxis\u001b[0m\u001b[1;33m.\u001b[0m\u001b[0mdrop\u001b[0m\u001b[1;33m(\u001b[0m\u001b[0mlabels\u001b[0m\u001b[1;33m,\u001b[0m \u001b[0merrors\u001b[0m\u001b[1;33m=\u001b[0m\u001b[0merrors\u001b[0m\u001b[1;33m)\u001b[0m\u001b[1;33m\u001b[0m\u001b[1;33m\u001b[0m\u001b[0m\n\u001b[0m\u001b[0;32m   4186\u001b[0m             \u001b[0mresult\u001b[0m \u001b[1;33m=\u001b[0m \u001b[0mself\u001b[0m\u001b[1;33m.\u001b[0m\u001b[0mreindex\u001b[0m\u001b[1;33m(\u001b[0m\u001b[1;33m**\u001b[0m\u001b[1;33m{\u001b[0m\u001b[0maxis_name\u001b[0m\u001b[1;33m:\u001b[0m \u001b[0mnew_axis\u001b[0m\u001b[1;33m}\u001b[0m\u001b[1;33m)\u001b[0m\u001b[1;33m\u001b[0m\u001b[1;33m\u001b[0m\u001b[0m\n\u001b[0;32m   4187\u001b[0m \u001b[1;33m\u001b[0m\u001b[0m\n",
      "\u001b[1;32m~\\anaconda3\\envs\\dev\\lib\\site-packages\\pandas\\core\\indexes\\base.py\u001b[0m in \u001b[0;36mdrop\u001b[1;34m(self, labels, errors)\u001b[0m\n\u001b[0;32m   6015\u001b[0m         \u001b[1;32mif\u001b[0m \u001b[0mmask\u001b[0m\u001b[1;33m.\u001b[0m\u001b[0many\u001b[0m\u001b[1;33m(\u001b[0m\u001b[1;33m)\u001b[0m\u001b[1;33m:\u001b[0m\u001b[1;33m\u001b[0m\u001b[1;33m\u001b[0m\u001b[0m\n\u001b[0;32m   6016\u001b[0m             \u001b[1;32mif\u001b[0m \u001b[0merrors\u001b[0m \u001b[1;33m!=\u001b[0m \u001b[1;34m\"ignore\"\u001b[0m\u001b[1;33m:\u001b[0m\u001b[1;33m\u001b[0m\u001b[1;33m\u001b[0m\u001b[0m\n\u001b[1;32m-> 6017\u001b[1;33m                 \u001b[1;32mraise\u001b[0m \u001b[0mKeyError\u001b[0m\u001b[1;33m(\u001b[0m\u001b[1;34mf\"{labels[mask]} not found in axis\"\u001b[0m\u001b[1;33m)\u001b[0m\u001b[1;33m\u001b[0m\u001b[1;33m\u001b[0m\u001b[0m\n\u001b[0m\u001b[0;32m   6018\u001b[0m             \u001b[0mindexer\u001b[0m \u001b[1;33m=\u001b[0m \u001b[0mindexer\u001b[0m\u001b[1;33m[\u001b[0m\u001b[1;33m~\u001b[0m\u001b[0mmask\u001b[0m\u001b[1;33m]\u001b[0m\u001b[1;33m\u001b[0m\u001b[1;33m\u001b[0m\u001b[0m\n\u001b[0;32m   6019\u001b[0m         \u001b[1;32mreturn\u001b[0m \u001b[0mself\u001b[0m\u001b[1;33m.\u001b[0m\u001b[0mdelete\u001b[0m\u001b[1;33m(\u001b[0m\u001b[0mindexer\u001b[0m\u001b[1;33m)\u001b[0m\u001b[1;33m\u001b[0m\u001b[1;33m\u001b[0m\u001b[0m\n",
      "\u001b[1;31mKeyError\u001b[0m: \"['timestamp'] not found in axis\""
     ]
    }
   ],
   "source": [
    "# Consolidate financial assets data into a Python list\n",
    "total_stocks_bonds = total_stocks_bonds.drop('timestamp')\n",
    "total_stocks_bonds\n",
    "# savings_data = [total_crypto_wallet,total_stocks_bonds]\n",
    "\n",
    "# # Review the Python list savings_data\n",
    "# savings_data\n",
    "    "
   ]
  },
  {
   "cell_type": "markdown",
   "metadata": {},
   "source": [
    "#### Step 2: Use the `savings_data` list to create a Pandas DataFrame named `savings_df`, and then display this DataFrame. The function to create the DataFrame should take the following three parameters:\n",
    "\n",
    "- `savings_data`: Use the list that you just created.\n",
    "\n",
    "- `columns`: Set this parameter equal to a Python list with a single value called `amount`.\n",
    "\n",
    "- `index`: Set this parameter equal to a Python list with the values of `crypto` and `stock/bond`.\n"
   ]
  },
  {
   "cell_type": "code",
   "execution_count": 69,
   "metadata": {},
   "outputs": [
    {
     "data": {
      "text/html": [
       "<div>\n",
       "<style scoped>\n",
       "    .dataframe tbody tr th:only-of-type {\n",
       "        vertical-align: middle;\n",
       "    }\n",
       "\n",
       "    .dataframe tbody tr th {\n",
       "        vertical-align: top;\n",
       "    }\n",
       "\n",
       "    .dataframe thead th {\n",
       "        text-align: right;\n",
       "    }\n",
       "</style>\n",
       "<table border=\"1\" class=\"dataframe\">\n",
       "  <thead>\n",
       "    <tr style=\"text-align: right;\">\n",
       "      <th></th>\n",
       "      <th>0</th>\n",
       "    </tr>\n",
       "  </thead>\n",
       "  <tbody>\n",
       "    <tr>\n",
       "      <th>0</th>\n",
       "      <td>31177.444</td>\n",
       "    </tr>\n",
       "    <tr>\n",
       "      <th>1</th>\n",
       "      <td>timestamp\n",
       "2020-08-07 04:00:00+00:00    60688.7...</td>\n",
       "    </tr>\n",
       "  </tbody>\n",
       "</table>\n",
       "</div>"
      ],
      "text/plain": [
       "                                                   0\n",
       "0                                          31177.444\n",
       "1  timestamp\n",
       "2020-08-07 04:00:00+00:00    60688.7..."
      ]
     },
     "execution_count": 69,
     "metadata": {},
     "output_type": "execute_result"
    }
   ],
   "source": [
    "# Create a Pandas DataFrame called savings_df \n",
    "savings_df = pd.DataFrame(savings_data)\n",
    "\n",
    "\n",
    "# Display the savings_df DataFrame\n",
    "savings_df\n"
   ]
  },
  {
   "cell_type": "markdown",
   "metadata": {},
   "source": [
    "#### Step 3: Use the `savings_df` DataFrame to plot a pie chart that visualizes the composition of the member’s portfolio. The y-axis of the pie chart uses `amount`. Be sure to add a title."
   ]
  },
  {
   "cell_type": "code",
   "execution_count": null,
   "metadata": {},
   "outputs": [],
   "source": [
    "# Plot the total value of the member's portfolio (crypto and stock/bond) in a pie chart\n",
    "savings_df.plot.pie(\n"
   ]
  },
  {
   "cell_type": "markdown",
   "metadata": {},
   "source": [
    "#### Step 4: Using Python, determine if the current portfolio has enough to create an emergency fund as part of the member’s financial plan. Ideally, an emergency fund should equal to three times the member’s monthly income. To do this, implement the following steps:\n",
    "\n",
    "Step 1. Create a variable named `emergency_fund_value`, and set it equal to three times the value of the member’s `monthly_income` of 12000. (You set this earlier in Part 1).\n",
    "\n",
    "Step 2. Create a series of three if statements to determine if the member’s total portfolio is large enough to fund the emergency portfolio:\n",
    "\n",
    "* If the total portfolio value is greater than the emergency fund value, display a message congratulating the member for having enough money in this fund.\n",
    "\n",
    "* Else if the total portfolio value is equal to the emergency fund value, display a message congratulating the member on reaching this important financial goal.\n",
    "\n",
    "* Else the total portfolio is less than the emergency fund value, so display a message showing how many dollars away the member is from reaching the goal. (Subtract the total portfolio value from the emergency fund value.)\n"
   ]
  },
  {
   "cell_type": "markdown",
   "metadata": {},
   "source": [
    "##### Step 4-1: Create a variable named `emergency_fund_value`, and set it equal to three times the value of the member’s `monthly_income` of 12000. (You set this earlier in Part 1)."
   ]
  },
  {
   "cell_type": "code",
   "execution_count": 96,
   "metadata": {},
   "outputs": [
    {
     "data": {
      "text/plain": [
       "36000"
      ]
     },
     "execution_count": 96,
     "metadata": {},
     "output_type": "execute_result"
    }
   ],
   "source": [
    "# Create a variable named emergency_fund_value\n",
    "emergency_fund_value = monthly_income * 3\n",
    "emergency_fund_value"
   ]
  },
  {
   "cell_type": "markdown",
   "metadata": {},
   "source": [
    "##### Step 4-2: Create a series of three if statements to determine if the member’s total portfolio is large enough to fund the emergency portfolio:\n",
    "\n",
    "* If the total portfolio value is greater than the emergency fund value, display a message congratulating the member for having enough money in this fund.\n",
    "\n",
    "* Else if the total portfolio value is equal to the emergency fund value, display a message congratulating the member on reaching this important financial goal.\n",
    "\n",
    "* Else the total portfolio is less than the emergency fund value, so display a message showing how many dollars away the member is from reaching the goal. (Subtract the total portfolio value from the emergency fund value.)"
   ]
  },
  {
   "cell_type": "code",
   "execution_count": 101,
   "metadata": {},
   "outputs": [
    {
     "ename": "SyntaxError",
     "evalue": "invalid syntax (1829604100.py, line 6)",
     "output_type": "error",
     "traceback": [
      "\u001b[1;36m  File \u001b[1;32m\"C:\\Users\\qstro\\AppData\\Local\\Temp\\ipykernel_9928\\1829604100.py\"\u001b[1;36m, line \u001b[1;32m6\u001b[0m\n\u001b[1;33m    else total_portfolio <= emergency_fund_value:\u001b[0m\n\u001b[1;37m                       ^\u001b[0m\n\u001b[1;31mSyntaxError\u001b[0m\u001b[1;31m:\u001b[0m invalid syntax\n"
     ]
    }
   ],
   "source": [
    "# Evaluate the possibility of creating an emergency fund with 3 conditions:\n",
    "if total_portfolio > emergency_fund_value:\n",
    "    print(f'Congrats you have enough money in the fund!')\n",
    "elif total_portfolio == emergency_fund_value:\n",
    "    print(f'Congrats on reaching your financial goal!')\n",
    "else total_portfolio < emergency_fund_value:\n",
    "    print(f'Sorry! You are still {emergency_fund_value-total_portfolio})\n",
    "\n"
   ]
  },
  {
   "cell_type": "markdown",
   "metadata": {},
   "source": [
    "## Part 2: Create a Financial Planner for Retirement"
   ]
  },
  {
   "cell_type": "markdown",
   "metadata": {},
   "source": [
    "### Create the Monte Carlo Simulation\n",
    "\n",
    "In this section, you’ll use the MCForecastTools library to create a Monte Carlo simulation for the member’s savings portfolio. To do this, complete the following steps:\n",
    "\n",
    "1. Make an API call via the Alpaca SDK to get 3 years of historical closing prices for a traditional 60/40 portfolio split: 60% stocks (SPY) and 40% bonds (AGG).\n",
    "\n",
    "2. Run a Monte Carlo simulation of 500 samples and 30 years for the 60/40 portfolio, and then plot the results.The following image shows the overlay line plot resulting from a simulation with these characteristics. However, because a random number generator is used to run each live Monte Carlo simulation, your image will differ slightly from this exact image:\n",
    "\n",
    "![A screenshot depicts the resulting plot.](Images/5-4-monte-carlo-line-plot.png)\n",
    "\n",
    "3. Plot the probability distribution of the Monte Carlo simulation. Plot the probability distribution of the Monte Carlo simulation. The following image shows the histogram plot resulting from a simulation with these characteristics. However, because a random number generator is used to run each live Monte Carlo simulation, your image will differ slightly from this exact image:\n",
    "\n",
    "![A screenshot depicts the histogram plot.](Images/5-4-monte-carlo-histogram.png)\n",
    "\n",
    "4. Generate the summary statistics for the Monte Carlo simulation.\n",
    "\n"
   ]
  },
  {
   "cell_type": "markdown",
   "metadata": {},
   "source": [
    "#### Step 1: Make an API call via the Alpaca SDK to get 3 years of historical closing prices for a traditional 60/40 portfolio split: 60% stocks (SPY) and 40% bonds (AGG)."
   ]
  },
  {
   "cell_type": "code",
   "execution_count": 102,
   "metadata": {},
   "outputs": [],
   "source": [
    "# Set start and end dates of 3 years back from your current date\n",
    "# Alternatively, you can use an end date of 2020-08-07 and work 3 years back from that date \n",
    "start = pd.Timestamp('2019-07-13', tz='America/New_York').isoformat()\n",
    "end = pd.Timestamp('2022-07-13', tz='America/New_York').isoformat()\n"
   ]
  },
  {
   "cell_type": "code",
   "execution_count": 106,
   "metadata": {},
   "outputs": [
    {
     "data": {
      "text/html": [
       "<div>\n",
       "<style scoped>\n",
       "    .dataframe tbody tr th:only-of-type {\n",
       "        vertical-align: middle;\n",
       "    }\n",
       "\n",
       "    .dataframe tbody tr th {\n",
       "        vertical-align: top;\n",
       "    }\n",
       "\n",
       "    .dataframe thead tr th {\n",
       "        text-align: left;\n",
       "    }\n",
       "\n",
       "    .dataframe thead tr:last-of-type th {\n",
       "        text-align: right;\n",
       "    }\n",
       "</style>\n",
       "<table border=\"1\" class=\"dataframe\">\n",
       "  <thead>\n",
       "    <tr>\n",
       "      <th></th>\n",
       "      <th colspan=\"7\" halign=\"left\">SPY</th>\n",
       "      <th colspan=\"7\" halign=\"left\">AGG</th>\n",
       "    </tr>\n",
       "    <tr>\n",
       "      <th></th>\n",
       "      <th>open</th>\n",
       "      <th>high</th>\n",
       "      <th>low</th>\n",
       "      <th>close</th>\n",
       "      <th>volume</th>\n",
       "      <th>trade_count</th>\n",
       "      <th>vwap</th>\n",
       "      <th>open</th>\n",
       "      <th>high</th>\n",
       "      <th>low</th>\n",
       "      <th>close</th>\n",
       "      <th>volume</th>\n",
       "      <th>trade_count</th>\n",
       "      <th>vwap</th>\n",
       "    </tr>\n",
       "    <tr>\n",
       "      <th>timestamp</th>\n",
       "      <th></th>\n",
       "      <th></th>\n",
       "      <th></th>\n",
       "      <th></th>\n",
       "      <th></th>\n",
       "      <th></th>\n",
       "      <th></th>\n",
       "      <th></th>\n",
       "      <th></th>\n",
       "      <th></th>\n",
       "      <th></th>\n",
       "      <th></th>\n",
       "      <th></th>\n",
       "      <th></th>\n",
       "    </tr>\n",
       "  </thead>\n",
       "  <tbody>\n",
       "    <tr>\n",
       "      <th>2019-07-15 04:00:00+00:00</th>\n",
       "      <td>301.12</td>\n",
       "      <td>301.13</td>\n",
       "      <td>300.19</td>\n",
       "      <td>300.75</td>\n",
       "      <td>33992129</td>\n",
       "      <td>149900</td>\n",
       "      <td>300.605019</td>\n",
       "      <td>110.87</td>\n",
       "      <td>110.960</td>\n",
       "      <td>110.85</td>\n",
       "      <td>110.95</td>\n",
       "      <td>3619089</td>\n",
       "      <td>10885</td>\n",
       "      <td>110.925638</td>\n",
       "    </tr>\n",
       "    <tr>\n",
       "      <th>2019-07-16 04:00:00+00:00</th>\n",
       "      <td>300.64</td>\n",
       "      <td>300.88</td>\n",
       "      <td>299.44</td>\n",
       "      <td>299.71</td>\n",
       "      <td>40807546</td>\n",
       "      <td>183816</td>\n",
       "      <td>300.108039</td>\n",
       "      <td>110.75</td>\n",
       "      <td>110.830</td>\n",
       "      <td>110.64</td>\n",
       "      <td>110.83</td>\n",
       "      <td>2149083</td>\n",
       "      <td>12676</td>\n",
       "      <td>110.743438</td>\n",
       "    </tr>\n",
       "    <tr>\n",
       "      <th>2019-07-17 04:00:00+00:00</th>\n",
       "      <td>299.77</td>\n",
       "      <td>299.93</td>\n",
       "      <td>297.74</td>\n",
       "      <td>297.74</td>\n",
       "      <td>44343835</td>\n",
       "      <td>200151</td>\n",
       "      <td>298.543544</td>\n",
       "      <td>110.93</td>\n",
       "      <td>111.140</td>\n",
       "      <td>110.91</td>\n",
       "      <td>111.12</td>\n",
       "      <td>2985610</td>\n",
       "      <td>11771</td>\n",
       "      <td>111.066605</td>\n",
       "    </tr>\n",
       "    <tr>\n",
       "      <th>2019-07-18 04:00:00+00:00</th>\n",
       "      <td>297.18</td>\n",
       "      <td>299.25</td>\n",
       "      <td>296.70</td>\n",
       "      <td>298.83</td>\n",
       "      <td>53567032</td>\n",
       "      <td>236661</td>\n",
       "      <td>298.067797</td>\n",
       "      <td>111.10</td>\n",
       "      <td>111.330</td>\n",
       "      <td>111.06</td>\n",
       "      <td>111.30</td>\n",
       "      <td>5982223</td>\n",
       "      <td>17331</td>\n",
       "      <td>111.220550</td>\n",
       "    </tr>\n",
       "    <tr>\n",
       "      <th>2019-07-19 04:00:00+00:00</th>\n",
       "      <td>300.01</td>\n",
       "      <td>300.07</td>\n",
       "      <td>296.96</td>\n",
       "      <td>297.17</td>\n",
       "      <td>76794138</td>\n",
       "      <td>260715</td>\n",
       "      <td>298.617649</td>\n",
       "      <td>111.22</td>\n",
       "      <td>111.286</td>\n",
       "      <td>111.14</td>\n",
       "      <td>111.17</td>\n",
       "      <td>3150774</td>\n",
       "      <td>9948</td>\n",
       "      <td>111.225017</td>\n",
       "    </tr>\n",
       "  </tbody>\n",
       "</table>\n",
       "</div>"
      ],
      "text/plain": [
       "                              SPY                                    \\\n",
       "                             open    high     low   close    volume   \n",
       "timestamp                                                             \n",
       "2019-07-15 04:00:00+00:00  301.12  301.13  300.19  300.75  33992129   \n",
       "2019-07-16 04:00:00+00:00  300.64  300.88  299.44  299.71  40807546   \n",
       "2019-07-17 04:00:00+00:00  299.77  299.93  297.74  297.74  44343835   \n",
       "2019-07-18 04:00:00+00:00  297.18  299.25  296.70  298.83  53567032   \n",
       "2019-07-19 04:00:00+00:00  300.01  300.07  296.96  297.17  76794138   \n",
       "\n",
       "                                                      AGG                   \\\n",
       "                          trade_count        vwap    open     high     low   \n",
       "timestamp                                                                    \n",
       "2019-07-15 04:00:00+00:00      149900  300.605019  110.87  110.960  110.85   \n",
       "2019-07-16 04:00:00+00:00      183816  300.108039  110.75  110.830  110.64   \n",
       "2019-07-17 04:00:00+00:00      200151  298.543544  110.93  111.140  110.91   \n",
       "2019-07-18 04:00:00+00:00      236661  298.067797  111.10  111.330  111.06   \n",
       "2019-07-19 04:00:00+00:00      260715  298.617649  111.22  111.286  111.14   \n",
       "\n",
       "                                                                    \n",
       "                            close   volume trade_count        vwap  \n",
       "timestamp                                                           \n",
       "2019-07-15 04:00:00+00:00  110.95  3619089       10885  110.925638  \n",
       "2019-07-16 04:00:00+00:00  110.83  2149083       12676  110.743438  \n",
       "2019-07-17 04:00:00+00:00  111.12  2985610       11771  111.066605  \n",
       "2019-07-18 04:00:00+00:00  111.30  5982223       17331  111.220550  \n",
       "2019-07-19 04:00:00+00:00  111.17  3150774        9948  111.225017  "
      ]
     },
     "metadata": {},
     "output_type": "display_data"
    },
    {
     "data": {
      "text/html": [
       "<div>\n",
       "<style scoped>\n",
       "    .dataframe tbody tr th:only-of-type {\n",
       "        vertical-align: middle;\n",
       "    }\n",
       "\n",
       "    .dataframe tbody tr th {\n",
       "        vertical-align: top;\n",
       "    }\n",
       "\n",
       "    .dataframe thead tr th {\n",
       "        text-align: left;\n",
       "    }\n",
       "\n",
       "    .dataframe thead tr:last-of-type th {\n",
       "        text-align: right;\n",
       "    }\n",
       "</style>\n",
       "<table border=\"1\" class=\"dataframe\">\n",
       "  <thead>\n",
       "    <tr>\n",
       "      <th></th>\n",
       "      <th colspan=\"7\" halign=\"left\">SPY</th>\n",
       "      <th colspan=\"7\" halign=\"left\">AGG</th>\n",
       "    </tr>\n",
       "    <tr>\n",
       "      <th></th>\n",
       "      <th>open</th>\n",
       "      <th>high</th>\n",
       "      <th>low</th>\n",
       "      <th>close</th>\n",
       "      <th>volume</th>\n",
       "      <th>trade_count</th>\n",
       "      <th>vwap</th>\n",
       "      <th>open</th>\n",
       "      <th>high</th>\n",
       "      <th>low</th>\n",
       "      <th>close</th>\n",
       "      <th>volume</th>\n",
       "      <th>trade_count</th>\n",
       "      <th>vwap</th>\n",
       "    </tr>\n",
       "    <tr>\n",
       "      <th>timestamp</th>\n",
       "      <th></th>\n",
       "      <th></th>\n",
       "      <th></th>\n",
       "      <th></th>\n",
       "      <th></th>\n",
       "      <th></th>\n",
       "      <th></th>\n",
       "      <th></th>\n",
       "      <th></th>\n",
       "      <th></th>\n",
       "      <th></th>\n",
       "      <th></th>\n",
       "      <th></th>\n",
       "      <th></th>\n",
       "    </tr>\n",
       "  </thead>\n",
       "  <tbody>\n",
       "    <tr>\n",
       "      <th>2022-07-07 04:00:00+00:00</th>\n",
       "      <td>385.12</td>\n",
       "      <td>389.83</td>\n",
       "      <td>383.267</td>\n",
       "      <td>388.99</td>\n",
       "      <td>64172156</td>\n",
       "      <td>467708</td>\n",
       "      <td>387.621834</td>\n",
       "      <td>101.94</td>\n",
       "      <td>101.9799</td>\n",
       "      <td>101.5200</td>\n",
       "      <td>101.61</td>\n",
       "      <td>8220620</td>\n",
       "      <td>17966</td>\n",
       "      <td>101.626894</td>\n",
       "    </tr>\n",
       "    <tr>\n",
       "      <th>2022-07-08 04:00:00+00:00</th>\n",
       "      <td>387.16</td>\n",
       "      <td>390.64</td>\n",
       "      <td>385.660</td>\n",
       "      <td>388.67</td>\n",
       "      <td>72468892</td>\n",
       "      <td>509776</td>\n",
       "      <td>388.661805</td>\n",
       "      <td>101.35</td>\n",
       "      <td>101.4499</td>\n",
       "      <td>101.1600</td>\n",
       "      <td>101.23</td>\n",
       "      <td>5269814</td>\n",
       "      <td>19181</td>\n",
       "      <td>101.268556</td>\n",
       "    </tr>\n",
       "    <tr>\n",
       "      <th>2022-07-11 04:00:00+00:00</th>\n",
       "      <td>385.91</td>\n",
       "      <td>386.87</td>\n",
       "      <td>383.500</td>\n",
       "      <td>384.23</td>\n",
       "      <td>58100363</td>\n",
       "      <td>473423</td>\n",
       "      <td>384.871994</td>\n",
       "      <td>101.67</td>\n",
       "      <td>101.9200</td>\n",
       "      <td>101.6029</td>\n",
       "      <td>101.70</td>\n",
       "      <td>5758310</td>\n",
       "      <td>17084</td>\n",
       "      <td>101.720884</td>\n",
       "    </tr>\n",
       "    <tr>\n",
       "      <th>2022-07-12 04:00:00+00:00</th>\n",
       "      <td>383.66</td>\n",
       "      <td>386.16</td>\n",
       "      <td>378.990</td>\n",
       "      <td>380.83</td>\n",
       "      <td>62027220</td>\n",
       "      <td>512244</td>\n",
       "      <td>382.617620</td>\n",
       "      <td>102.02</td>\n",
       "      <td>102.1900</td>\n",
       "      <td>101.8200</td>\n",
       "      <td>101.84</td>\n",
       "      <td>6664991</td>\n",
       "      <td>21057</td>\n",
       "      <td>102.039440</td>\n",
       "    </tr>\n",
       "    <tr>\n",
       "      <th>2022-07-13 04:00:00+00:00</th>\n",
       "      <td>375.09</td>\n",
       "      <td>381.92</td>\n",
       "      <td>374.658</td>\n",
       "      <td>378.83</td>\n",
       "      <td>83575452</td>\n",
       "      <td>671953</td>\n",
       "      <td>378.819688</td>\n",
       "      <td>101.23</td>\n",
       "      <td>102.2400</td>\n",
       "      <td>101.1900</td>\n",
       "      <td>102.21</td>\n",
       "      <td>6514247</td>\n",
       "      <td>26716</td>\n",
       "      <td>101.977478</td>\n",
       "    </tr>\n",
       "  </tbody>\n",
       "</table>\n",
       "</div>"
      ],
      "text/plain": [
       "                              SPY                                     \\\n",
       "                             open    high      low   close    volume   \n",
       "timestamp                                                              \n",
       "2022-07-07 04:00:00+00:00  385.12  389.83  383.267  388.99  64172156   \n",
       "2022-07-08 04:00:00+00:00  387.16  390.64  385.660  388.67  72468892   \n",
       "2022-07-11 04:00:00+00:00  385.91  386.87  383.500  384.23  58100363   \n",
       "2022-07-12 04:00:00+00:00  383.66  386.16  378.990  380.83  62027220   \n",
       "2022-07-13 04:00:00+00:00  375.09  381.92  374.658  378.83  83575452   \n",
       "\n",
       "                                                      AGG                      \\\n",
       "                          trade_count        vwap    open      high       low   \n",
       "timestamp                                                                       \n",
       "2022-07-07 04:00:00+00:00      467708  387.621834  101.94  101.9799  101.5200   \n",
       "2022-07-08 04:00:00+00:00      509776  388.661805  101.35  101.4499  101.1600   \n",
       "2022-07-11 04:00:00+00:00      473423  384.871994  101.67  101.9200  101.6029   \n",
       "2022-07-12 04:00:00+00:00      512244  382.617620  102.02  102.1900  101.8200   \n",
       "2022-07-13 04:00:00+00:00      671953  378.819688  101.23  102.2400  101.1900   \n",
       "\n",
       "                                                                    \n",
       "                            close   volume trade_count        vwap  \n",
       "timestamp                                                           \n",
       "2022-07-07 04:00:00+00:00  101.61  8220620       17966  101.626894  \n",
       "2022-07-08 04:00:00+00:00  101.23  5269814       19181  101.268556  \n",
       "2022-07-11 04:00:00+00:00  101.70  5758310       17084  101.720884  \n",
       "2022-07-12 04:00:00+00:00  101.84  6664991       21057  102.039440  \n",
       "2022-07-13 04:00:00+00:00  102.21  6514247       26716  101.977478  "
      ]
     },
     "metadata": {},
     "output_type": "display_data"
    }
   ],
   "source": [
    "# Use the Alpaca get_bars function to make the API call to get the 3 years worth of pricing data\n",
    "# The tickers and timeframe parameters should have been set in Part 1 of this activity \n",
    "# The start and end dates should be updated with the information set above\n",
    "# Remember to add the df property to the end of the call so the response is returned as a DataFrame\n",
    "portfolio_df = alpaca.get_bars(\n",
    "                    tickers, \n",
    "                    timeframe, \n",
    "                    start = start, \n",
    "                    end = end ,\n",
    "                    ).df\n",
    "# Reorganize the DataFrame\n",
    "# Separate ticker data\n",
    "SPY = portfolio_df[portfolio_df['symbol']=='SPY'].drop('symbol',axis=1)\n",
    "AGG = portfolio_df[portfolio_df['symbol']=='AGG'].drop('symbol',axis=1)\n",
    "# Concatenate the ticker DataFrames\n",
    "portfolio_df = pd.concat([SPY,AGG],axis=1, keys=['SPY','AGG'])\n",
    "\n",
    "# Display both the first and last five rows of the DataFrame\n",
    "display(portfolio_df.head())\n",
    "display(portfolio_df.tail())\n"
   ]
  },
  {
   "cell_type": "markdown",
   "metadata": {},
   "source": [
    "#### Step 2: Run a Monte Carlo simulation of 500 samples and 30 years for the 60/40 portfolio, and then plot the results."
   ]
  },
  {
   "cell_type": "code",
   "execution_count": 109,
   "metadata": {},
   "outputs": [
    {
     "data": {
      "text/html": [
       "<div>\n",
       "<style scoped>\n",
       "    .dataframe tbody tr th:only-of-type {\n",
       "        vertical-align: middle;\n",
       "    }\n",
       "\n",
       "    .dataframe tbody tr th {\n",
       "        vertical-align: top;\n",
       "    }\n",
       "\n",
       "    .dataframe thead tr th {\n",
       "        text-align: left;\n",
       "    }\n",
       "\n",
       "    .dataframe thead tr:last-of-type th {\n",
       "        text-align: right;\n",
       "    }\n",
       "</style>\n",
       "<table border=\"1\" class=\"dataframe\">\n",
       "  <thead>\n",
       "    <tr>\n",
       "      <th></th>\n",
       "      <th colspan=\"8\" halign=\"left\">SPY</th>\n",
       "      <th colspan=\"8\" halign=\"left\">AGG</th>\n",
       "    </tr>\n",
       "    <tr>\n",
       "      <th></th>\n",
       "      <th>open</th>\n",
       "      <th>high</th>\n",
       "      <th>low</th>\n",
       "      <th>close</th>\n",
       "      <th>volume</th>\n",
       "      <th>trade_count</th>\n",
       "      <th>vwap</th>\n",
       "      <th>daily_return</th>\n",
       "      <th>open</th>\n",
       "      <th>high</th>\n",
       "      <th>low</th>\n",
       "      <th>close</th>\n",
       "      <th>volume</th>\n",
       "      <th>trade_count</th>\n",
       "      <th>vwap</th>\n",
       "      <th>daily_return</th>\n",
       "    </tr>\n",
       "    <tr>\n",
       "      <th>timestamp</th>\n",
       "      <th></th>\n",
       "      <th></th>\n",
       "      <th></th>\n",
       "      <th></th>\n",
       "      <th></th>\n",
       "      <th></th>\n",
       "      <th></th>\n",
       "      <th></th>\n",
       "      <th></th>\n",
       "      <th></th>\n",
       "      <th></th>\n",
       "      <th></th>\n",
       "      <th></th>\n",
       "      <th></th>\n",
       "      <th></th>\n",
       "      <th></th>\n",
       "    </tr>\n",
       "  </thead>\n",
       "  <tbody>\n",
       "    <tr>\n",
       "      <th>2019-07-15 04:00:00+00:00</th>\n",
       "      <td>301.12</td>\n",
       "      <td>301.13</td>\n",
       "      <td>300.19</td>\n",
       "      <td>300.75</td>\n",
       "      <td>33992129</td>\n",
       "      <td>149900</td>\n",
       "      <td>300.605019</td>\n",
       "      <td>NaN</td>\n",
       "      <td>110.87</td>\n",
       "      <td>110.960</td>\n",
       "      <td>110.85</td>\n",
       "      <td>110.95</td>\n",
       "      <td>3619089</td>\n",
       "      <td>10885</td>\n",
       "      <td>110.925638</td>\n",
       "      <td>NaN</td>\n",
       "    </tr>\n",
       "    <tr>\n",
       "      <th>2019-07-16 04:00:00+00:00</th>\n",
       "      <td>300.64</td>\n",
       "      <td>300.88</td>\n",
       "      <td>299.44</td>\n",
       "      <td>299.71</td>\n",
       "      <td>40807546</td>\n",
       "      <td>183816</td>\n",
       "      <td>300.108039</td>\n",
       "      <td>-0.003458</td>\n",
       "      <td>110.75</td>\n",
       "      <td>110.830</td>\n",
       "      <td>110.64</td>\n",
       "      <td>110.83</td>\n",
       "      <td>2149083</td>\n",
       "      <td>12676</td>\n",
       "      <td>110.743438</td>\n",
       "      <td>-0.001082</td>\n",
       "    </tr>\n",
       "    <tr>\n",
       "      <th>2019-07-17 04:00:00+00:00</th>\n",
       "      <td>299.77</td>\n",
       "      <td>299.93</td>\n",
       "      <td>297.74</td>\n",
       "      <td>297.74</td>\n",
       "      <td>44343835</td>\n",
       "      <td>200151</td>\n",
       "      <td>298.543544</td>\n",
       "      <td>-0.006573</td>\n",
       "      <td>110.93</td>\n",
       "      <td>111.140</td>\n",
       "      <td>110.91</td>\n",
       "      <td>111.12</td>\n",
       "      <td>2985610</td>\n",
       "      <td>11771</td>\n",
       "      <td>111.066605</td>\n",
       "      <td>0.002617</td>\n",
       "    </tr>\n",
       "    <tr>\n",
       "      <th>2019-07-18 04:00:00+00:00</th>\n",
       "      <td>297.18</td>\n",
       "      <td>299.25</td>\n",
       "      <td>296.70</td>\n",
       "      <td>298.83</td>\n",
       "      <td>53567032</td>\n",
       "      <td>236661</td>\n",
       "      <td>298.067797</td>\n",
       "      <td>0.003661</td>\n",
       "      <td>111.10</td>\n",
       "      <td>111.330</td>\n",
       "      <td>111.06</td>\n",
       "      <td>111.30</td>\n",
       "      <td>5982223</td>\n",
       "      <td>17331</td>\n",
       "      <td>111.220550</td>\n",
       "      <td>0.001620</td>\n",
       "    </tr>\n",
       "    <tr>\n",
       "      <th>2019-07-19 04:00:00+00:00</th>\n",
       "      <td>300.01</td>\n",
       "      <td>300.07</td>\n",
       "      <td>296.96</td>\n",
       "      <td>297.17</td>\n",
       "      <td>76794138</td>\n",
       "      <td>260715</td>\n",
       "      <td>298.617649</td>\n",
       "      <td>-0.005555</td>\n",
       "      <td>111.22</td>\n",
       "      <td>111.286</td>\n",
       "      <td>111.14</td>\n",
       "      <td>111.17</td>\n",
       "      <td>3150774</td>\n",
       "      <td>9948</td>\n",
       "      <td>111.225017</td>\n",
       "      <td>-0.001168</td>\n",
       "    </tr>\n",
       "  </tbody>\n",
       "</table>\n",
       "</div>"
      ],
      "text/plain": [
       "                              SPY                                    \\\n",
       "                             open    high     low   close    volume   \n",
       "timestamp                                                             \n",
       "2019-07-15 04:00:00+00:00  301.12  301.13  300.19  300.75  33992129   \n",
       "2019-07-16 04:00:00+00:00  300.64  300.88  299.44  299.71  40807546   \n",
       "2019-07-17 04:00:00+00:00  299.77  299.93  297.74  297.74  44343835   \n",
       "2019-07-18 04:00:00+00:00  297.18  299.25  296.70  298.83  53567032   \n",
       "2019-07-19 04:00:00+00:00  300.01  300.07  296.96  297.17  76794138   \n",
       "\n",
       "                                                                   AGG  \\\n",
       "                          trade_count        vwap daily_return    open   \n",
       "timestamp                                                                \n",
       "2019-07-15 04:00:00+00:00      149900  300.605019          NaN  110.87   \n",
       "2019-07-16 04:00:00+00:00      183816  300.108039    -0.003458  110.75   \n",
       "2019-07-17 04:00:00+00:00      200151  298.543544    -0.006573  110.93   \n",
       "2019-07-18 04:00:00+00:00      236661  298.067797     0.003661  111.10   \n",
       "2019-07-19 04:00:00+00:00      260715  298.617649    -0.005555  111.22   \n",
       "\n",
       "                                                                         \\\n",
       "                              high     low   close   volume trade_count   \n",
       "timestamp                                                                 \n",
       "2019-07-15 04:00:00+00:00  110.960  110.85  110.95  3619089       10885   \n",
       "2019-07-16 04:00:00+00:00  110.830  110.64  110.83  2149083       12676   \n",
       "2019-07-17 04:00:00+00:00  111.140  110.91  111.12  2985610       11771   \n",
       "2019-07-18 04:00:00+00:00  111.330  111.06  111.30  5982223       17331   \n",
       "2019-07-19 04:00:00+00:00  111.286  111.14  111.17  3150774        9948   \n",
       "\n",
       "                                                    \n",
       "                                 vwap daily_return  \n",
       "timestamp                                           \n",
       "2019-07-15 04:00:00+00:00  110.925638          NaN  \n",
       "2019-07-16 04:00:00+00:00  110.743438    -0.001082  \n",
       "2019-07-17 04:00:00+00:00  111.066605     0.002617  \n",
       "2019-07-18 04:00:00+00:00  111.220550     0.001620  \n",
       "2019-07-19 04:00:00+00:00  111.225017    -0.001168  "
      ]
     },
     "execution_count": 109,
     "metadata": {},
     "output_type": "execute_result"
    }
   ],
   "source": [
    "# Configure the Monte Carlo simulation to forecast 30 years cumulative returns\n",
    "# The weights should be split 40% to AGG and 60% to SPY.\n",
    "# Run 500 samples.\n",
    "MC_thirtyyear = MCSimulation(\n",
    "    portfolio_data = portfolio_df,\n",
    "    weights=[.60,.40],\n",
    "    num_simulation=500,\n",
    "    num_trading_days=252*30\n",
    ")\n",
    "\n",
    "# Review the simulation input data\n",
    "MC_thirtyyear.portfolio_data.head()\n"
   ]
  },
  {
   "cell_type": "code",
   "execution_count": 110,
   "metadata": {},
   "outputs": [
    {
     "name": "stdout",
     "output_type": "stream",
     "text": [
      "Running Monte Carlo simulation number 0.\n",
      "Running Monte Carlo simulation number 10.\n",
      "Running Monte Carlo simulation number 20.\n",
      "Running Monte Carlo simulation number 30.\n",
      "Running Monte Carlo simulation number 40.\n",
      "Running Monte Carlo simulation number 50.\n",
      "Running Monte Carlo simulation number 60.\n",
      "Running Monte Carlo simulation number 70.\n",
      "Running Monte Carlo simulation number 80.\n",
      "Running Monte Carlo simulation number 90.\n",
      "Running Monte Carlo simulation number 100.\n"
     ]
    },
    {
     "name": "stderr",
     "output_type": "stream",
     "text": [
      "C:\\Users\\qstro\\OneDrive\\Desktop\\Challenge Files\\Challenge_5\\Starter_Code\\Financial_Planner\\MCForecastTools.py:117: PerformanceWarning: DataFrame is highly fragmented.  This is usually the result of calling `frame.insert` many times, which has poor performance.  Consider joining all columns at once using pd.concat(axis=1) instead.  To get a de-fragmented frame, use `newframe = frame.copy()`\n",
      "  portfolio_cumulative_returns[n] = (1 + sim_df.fillna(0)).cumprod()\n"
     ]
    },
    {
     "name": "stdout",
     "output_type": "stream",
     "text": [
      "Running Monte Carlo simulation number 110.\n",
      "Running Monte Carlo simulation number 120.\n",
      "Running Monte Carlo simulation number 130.\n",
      "Running Monte Carlo simulation number 140.\n",
      "Running Monte Carlo simulation number 150.\n",
      "Running Monte Carlo simulation number 160.\n",
      "Running Monte Carlo simulation number 170.\n",
      "Running Monte Carlo simulation number 180.\n",
      "Running Monte Carlo simulation number 190.\n",
      "Running Monte Carlo simulation number 200.\n",
      "Running Monte Carlo simulation number 210.\n",
      "Running Monte Carlo simulation number 220.\n",
      "Running Monte Carlo simulation number 230.\n",
      "Running Monte Carlo simulation number 240.\n",
      "Running Monte Carlo simulation number 250.\n",
      "Running Monte Carlo simulation number 260.\n",
      "Running Monte Carlo simulation number 270.\n",
      "Running Monte Carlo simulation number 280.\n",
      "Running Monte Carlo simulation number 290.\n",
      "Running Monte Carlo simulation number 300.\n",
      "Running Monte Carlo simulation number 310.\n",
      "Running Monte Carlo simulation number 320.\n",
      "Running Monte Carlo simulation number 330.\n",
      "Running Monte Carlo simulation number 340.\n",
      "Running Monte Carlo simulation number 350.\n",
      "Running Monte Carlo simulation number 360.\n",
      "Running Monte Carlo simulation number 370.\n",
      "Running Monte Carlo simulation number 380.\n",
      "Running Monte Carlo simulation number 390.\n",
      "Running Monte Carlo simulation number 400.\n",
      "Running Monte Carlo simulation number 410.\n",
      "Running Monte Carlo simulation number 420.\n",
      "Running Monte Carlo simulation number 430.\n",
      "Running Monte Carlo simulation number 440.\n",
      "Running Monte Carlo simulation number 450.\n",
      "Running Monte Carlo simulation number 460.\n",
      "Running Monte Carlo simulation number 470.\n",
      "Running Monte Carlo simulation number 480.\n",
      "Running Monte Carlo simulation number 490.\n"
     ]
    },
    {
     "data": {
      "text/html": [
       "<div>\n",
       "<style scoped>\n",
       "    .dataframe tbody tr th:only-of-type {\n",
       "        vertical-align: middle;\n",
       "    }\n",
       "\n",
       "    .dataframe tbody tr th {\n",
       "        vertical-align: top;\n",
       "    }\n",
       "\n",
       "    .dataframe thead th {\n",
       "        text-align: right;\n",
       "    }\n",
       "</style>\n",
       "<table border=\"1\" class=\"dataframe\">\n",
       "  <thead>\n",
       "    <tr style=\"text-align: right;\">\n",
       "      <th></th>\n",
       "      <th>0</th>\n",
       "      <th>1</th>\n",
       "      <th>2</th>\n",
       "      <th>3</th>\n",
       "      <th>4</th>\n",
       "      <th>5</th>\n",
       "      <th>6</th>\n",
       "      <th>7</th>\n",
       "      <th>8</th>\n",
       "      <th>9</th>\n",
       "      <th>...</th>\n",
       "      <th>490</th>\n",
       "      <th>491</th>\n",
       "      <th>492</th>\n",
       "      <th>493</th>\n",
       "      <th>494</th>\n",
       "      <th>495</th>\n",
       "      <th>496</th>\n",
       "      <th>497</th>\n",
       "      <th>498</th>\n",
       "      <th>499</th>\n",
       "    </tr>\n",
       "  </thead>\n",
       "  <tbody>\n",
       "    <tr>\n",
       "      <th>0</th>\n",
       "      <td>1.000000</td>\n",
       "      <td>1.000000</td>\n",
       "      <td>1.000000</td>\n",
       "      <td>1.000000</td>\n",
       "      <td>1.000000</td>\n",
       "      <td>1.000000</td>\n",
       "      <td>1.000000</td>\n",
       "      <td>1.000000</td>\n",
       "      <td>1.000000</td>\n",
       "      <td>1.000000</td>\n",
       "      <td>...</td>\n",
       "      <td>1.000000</td>\n",
       "      <td>1.000000</td>\n",
       "      <td>1.000000</td>\n",
       "      <td>1.000000</td>\n",
       "      <td>1.000000</td>\n",
       "      <td>1.000000</td>\n",
       "      <td>1.000000</td>\n",
       "      <td>1.000000</td>\n",
       "      <td>1.000000</td>\n",
       "      <td>1.000000</td>\n",
       "    </tr>\n",
       "    <tr>\n",
       "      <th>1</th>\n",
       "      <td>1.018273</td>\n",
       "      <td>0.998276</td>\n",
       "      <td>0.997734</td>\n",
       "      <td>0.981435</td>\n",
       "      <td>0.991422</td>\n",
       "      <td>0.990737</td>\n",
       "      <td>0.999608</td>\n",
       "      <td>0.993928</td>\n",
       "      <td>0.998051</td>\n",
       "      <td>1.002581</td>\n",
       "      <td>...</td>\n",
       "      <td>1.000338</td>\n",
       "      <td>1.006579</td>\n",
       "      <td>1.015620</td>\n",
       "      <td>1.001106</td>\n",
       "      <td>0.989645</td>\n",
       "      <td>1.002917</td>\n",
       "      <td>0.999662</td>\n",
       "      <td>1.004192</td>\n",
       "      <td>1.009284</td>\n",
       "      <td>1.003846</td>\n",
       "    </tr>\n",
       "    <tr>\n",
       "      <th>2</th>\n",
       "      <td>1.020918</td>\n",
       "      <td>0.996050</td>\n",
       "      <td>1.008677</td>\n",
       "      <td>0.977643</td>\n",
       "      <td>0.991902</td>\n",
       "      <td>0.987258</td>\n",
       "      <td>1.003572</td>\n",
       "      <td>0.992179</td>\n",
       "      <td>1.011027</td>\n",
       "      <td>1.016184</td>\n",
       "      <td>...</td>\n",
       "      <td>1.004270</td>\n",
       "      <td>1.003810</td>\n",
       "      <td>1.025760</td>\n",
       "      <td>1.010284</td>\n",
       "      <td>1.006395</td>\n",
       "      <td>0.998469</td>\n",
       "      <td>0.993778</td>\n",
       "      <td>1.016261</td>\n",
       "      <td>1.005162</td>\n",
       "      <td>1.006163</td>\n",
       "    </tr>\n",
       "    <tr>\n",
       "      <th>3</th>\n",
       "      <td>1.031578</td>\n",
       "      <td>0.991807</td>\n",
       "      <td>1.008337</td>\n",
       "      <td>0.975966</td>\n",
       "      <td>0.987892</td>\n",
       "      <td>0.983849</td>\n",
       "      <td>1.003309</td>\n",
       "      <td>0.987429</td>\n",
       "      <td>1.016337</td>\n",
       "      <td>1.020045</td>\n",
       "      <td>...</td>\n",
       "      <td>0.983486</td>\n",
       "      <td>0.989700</td>\n",
       "      <td>1.031427</td>\n",
       "      <td>1.018337</td>\n",
       "      <td>1.007719</td>\n",
       "      <td>0.997296</td>\n",
       "      <td>1.000981</td>\n",
       "      <td>1.034462</td>\n",
       "      <td>1.001597</td>\n",
       "      <td>1.006595</td>\n",
       "    </tr>\n",
       "    <tr>\n",
       "      <th>4</th>\n",
       "      <td>1.027989</td>\n",
       "      <td>0.978141</td>\n",
       "      <td>1.012860</td>\n",
       "      <td>0.970893</td>\n",
       "      <td>0.988371</td>\n",
       "      <td>0.979538</td>\n",
       "      <td>1.001691</td>\n",
       "      <td>0.975202</td>\n",
       "      <td>1.011867</td>\n",
       "      <td>1.003274</td>\n",
       "      <td>...</td>\n",
       "      <td>0.990112</td>\n",
       "      <td>1.000590</td>\n",
       "      <td>1.044268</td>\n",
       "      <td>1.013469</td>\n",
       "      <td>1.003170</td>\n",
       "      <td>0.993074</td>\n",
       "      <td>0.989983</td>\n",
       "      <td>1.033768</td>\n",
       "      <td>1.008018</td>\n",
       "      <td>1.002278</td>\n",
       "    </tr>\n",
       "    <tr>\n",
       "      <th>...</th>\n",
       "      <td>...</td>\n",
       "      <td>...</td>\n",
       "      <td>...</td>\n",
       "      <td>...</td>\n",
       "      <td>...</td>\n",
       "      <td>...</td>\n",
       "      <td>...</td>\n",
       "      <td>...</td>\n",
       "      <td>...</td>\n",
       "      <td>...</td>\n",
       "      <td>...</td>\n",
       "      <td>...</td>\n",
       "      <td>...</td>\n",
       "      <td>...</td>\n",
       "      <td>...</td>\n",
       "      <td>...</td>\n",
       "      <td>...</td>\n",
       "      <td>...</td>\n",
       "      <td>...</td>\n",
       "      <td>...</td>\n",
       "      <td>...</td>\n",
       "    </tr>\n",
       "    <tr>\n",
       "      <th>7556</th>\n",
       "      <td>2.822182</td>\n",
       "      <td>7.521472</td>\n",
       "      <td>3.004982</td>\n",
       "      <td>2.256239</td>\n",
       "      <td>5.851432</td>\n",
       "      <td>3.087101</td>\n",
       "      <td>9.330619</td>\n",
       "      <td>2.496167</td>\n",
       "      <td>1.228992</td>\n",
       "      <td>14.725962</td>\n",
       "      <td>...</td>\n",
       "      <td>3.468758</td>\n",
       "      <td>0.710104</td>\n",
       "      <td>1.384216</td>\n",
       "      <td>3.615618</td>\n",
       "      <td>5.267008</td>\n",
       "      <td>4.363034</td>\n",
       "      <td>2.529458</td>\n",
       "      <td>1.223963</td>\n",
       "      <td>5.454089</td>\n",
       "      <td>17.358000</td>\n",
       "    </tr>\n",
       "    <tr>\n",
       "      <th>7557</th>\n",
       "      <td>2.792924</td>\n",
       "      <td>7.627560</td>\n",
       "      <td>2.980965</td>\n",
       "      <td>2.258547</td>\n",
       "      <td>5.835872</td>\n",
       "      <td>3.096758</td>\n",
       "      <td>9.525125</td>\n",
       "      <td>2.526751</td>\n",
       "      <td>1.229325</td>\n",
       "      <td>14.948739</td>\n",
       "      <td>...</td>\n",
       "      <td>3.494558</td>\n",
       "      <td>0.720217</td>\n",
       "      <td>1.347419</td>\n",
       "      <td>3.642942</td>\n",
       "      <td>5.298722</td>\n",
       "      <td>4.395081</td>\n",
       "      <td>2.528439</td>\n",
       "      <td>1.226143</td>\n",
       "      <td>5.492551</td>\n",
       "      <td>17.434030</td>\n",
       "    </tr>\n",
       "    <tr>\n",
       "      <th>7558</th>\n",
       "      <td>2.810541</td>\n",
       "      <td>7.690920</td>\n",
       "      <td>2.973674</td>\n",
       "      <td>2.259231</td>\n",
       "      <td>5.776481</td>\n",
       "      <td>3.047258</td>\n",
       "      <td>9.520049</td>\n",
       "      <td>2.580316</td>\n",
       "      <td>1.243998</td>\n",
       "      <td>14.865571</td>\n",
       "      <td>...</td>\n",
       "      <td>3.489005</td>\n",
       "      <td>0.723402</td>\n",
       "      <td>1.331089</td>\n",
       "      <td>3.671672</td>\n",
       "      <td>5.329211</td>\n",
       "      <td>4.409784</td>\n",
       "      <td>2.545308</td>\n",
       "      <td>1.250791</td>\n",
       "      <td>5.523519</td>\n",
       "      <td>17.478049</td>\n",
       "    </tr>\n",
       "    <tr>\n",
       "      <th>7559</th>\n",
       "      <td>2.801175</td>\n",
       "      <td>7.745276</td>\n",
       "      <td>2.959071</td>\n",
       "      <td>2.258981</td>\n",
       "      <td>5.692790</td>\n",
       "      <td>3.025988</td>\n",
       "      <td>9.740750</td>\n",
       "      <td>2.546488</td>\n",
       "      <td>1.239479</td>\n",
       "      <td>15.047657</td>\n",
       "      <td>...</td>\n",
       "      <td>3.464588</td>\n",
       "      <td>0.723360</td>\n",
       "      <td>1.345033</td>\n",
       "      <td>3.689667</td>\n",
       "      <td>5.386051</td>\n",
       "      <td>4.410143</td>\n",
       "      <td>2.556004</td>\n",
       "      <td>1.234567</td>\n",
       "      <td>5.550207</td>\n",
       "      <td>17.312503</td>\n",
       "    </tr>\n",
       "    <tr>\n",
       "      <th>7560</th>\n",
       "      <td>2.800574</td>\n",
       "      <td>7.842393</td>\n",
       "      <td>2.923190</td>\n",
       "      <td>2.303460</td>\n",
       "      <td>5.699526</td>\n",
       "      <td>3.035338</td>\n",
       "      <td>9.777012</td>\n",
       "      <td>2.546918</td>\n",
       "      <td>1.265311</td>\n",
       "      <td>14.661431</td>\n",
       "      <td>...</td>\n",
       "      <td>3.426023</td>\n",
       "      <td>0.717032</td>\n",
       "      <td>1.344282</td>\n",
       "      <td>3.724628</td>\n",
       "      <td>5.385158</td>\n",
       "      <td>4.402196</td>\n",
       "      <td>2.574760</td>\n",
       "      <td>1.225516</td>\n",
       "      <td>5.596015</td>\n",
       "      <td>17.277344</td>\n",
       "    </tr>\n",
       "  </tbody>\n",
       "</table>\n",
       "<p>7561 rows × 500 columns</p>\n",
       "</div>"
      ],
      "text/plain": [
       "           0         1         2         3         4         5         6    \\\n",
       "0     1.000000  1.000000  1.000000  1.000000  1.000000  1.000000  1.000000   \n",
       "1     1.018273  0.998276  0.997734  0.981435  0.991422  0.990737  0.999608   \n",
       "2     1.020918  0.996050  1.008677  0.977643  0.991902  0.987258  1.003572   \n",
       "3     1.031578  0.991807  1.008337  0.975966  0.987892  0.983849  1.003309   \n",
       "4     1.027989  0.978141  1.012860  0.970893  0.988371  0.979538  1.001691   \n",
       "...        ...       ...       ...       ...       ...       ...       ...   \n",
       "7556  2.822182  7.521472  3.004982  2.256239  5.851432  3.087101  9.330619   \n",
       "7557  2.792924  7.627560  2.980965  2.258547  5.835872  3.096758  9.525125   \n",
       "7558  2.810541  7.690920  2.973674  2.259231  5.776481  3.047258  9.520049   \n",
       "7559  2.801175  7.745276  2.959071  2.258981  5.692790  3.025988  9.740750   \n",
       "7560  2.800574  7.842393  2.923190  2.303460  5.699526  3.035338  9.777012   \n",
       "\n",
       "           7         8          9    ...       490       491       492  \\\n",
       "0     1.000000  1.000000   1.000000  ...  1.000000  1.000000  1.000000   \n",
       "1     0.993928  0.998051   1.002581  ...  1.000338  1.006579  1.015620   \n",
       "2     0.992179  1.011027   1.016184  ...  1.004270  1.003810  1.025760   \n",
       "3     0.987429  1.016337   1.020045  ...  0.983486  0.989700  1.031427   \n",
       "4     0.975202  1.011867   1.003274  ...  0.990112  1.000590  1.044268   \n",
       "...        ...       ...        ...  ...       ...       ...       ...   \n",
       "7556  2.496167  1.228992  14.725962  ...  3.468758  0.710104  1.384216   \n",
       "7557  2.526751  1.229325  14.948739  ...  3.494558  0.720217  1.347419   \n",
       "7558  2.580316  1.243998  14.865571  ...  3.489005  0.723402  1.331089   \n",
       "7559  2.546488  1.239479  15.047657  ...  3.464588  0.723360  1.345033   \n",
       "7560  2.546918  1.265311  14.661431  ...  3.426023  0.717032  1.344282   \n",
       "\n",
       "           493       494       495       496       497       498        499  \n",
       "0     1.000000  1.000000  1.000000  1.000000  1.000000  1.000000   1.000000  \n",
       "1     1.001106  0.989645  1.002917  0.999662  1.004192  1.009284   1.003846  \n",
       "2     1.010284  1.006395  0.998469  0.993778  1.016261  1.005162   1.006163  \n",
       "3     1.018337  1.007719  0.997296  1.000981  1.034462  1.001597   1.006595  \n",
       "4     1.013469  1.003170  0.993074  0.989983  1.033768  1.008018   1.002278  \n",
       "...        ...       ...       ...       ...       ...       ...        ...  \n",
       "7556  3.615618  5.267008  4.363034  2.529458  1.223963  5.454089  17.358000  \n",
       "7557  3.642942  5.298722  4.395081  2.528439  1.226143  5.492551  17.434030  \n",
       "7558  3.671672  5.329211  4.409784  2.545308  1.250791  5.523519  17.478049  \n",
       "7559  3.689667  5.386051  4.410143  2.556004  1.234567  5.550207  17.312503  \n",
       "7560  3.724628  5.385158  4.402196  2.574760  1.225516  5.596015  17.277344  \n",
       "\n",
       "[7561 rows x 500 columns]"
      ]
     },
     "execution_count": 110,
     "metadata": {},
     "output_type": "execute_result"
    }
   ],
   "source": [
    "# Run the Monte Carlo simulation to forecast 30 years cumulative returns\n",
    "MC_thirtyyear.calc_cumulative_return()\n"
   ]
  },
  {
   "cell_type": "code",
   "execution_count": 112,
   "metadata": {},
   "outputs": [
    {
     "data": {
      "image/png": "[encoded data removed]",
      "text/plain": [
       "<Figure size 432x288 with 1 Axes>"
      ]
     },
     "execution_count": 112,
     "metadata": {},
     "output_type": "execute_result"
    },
    {
     "data": {
      "image/png": "[encoded data removed]",
      "text/plain": [
       "<Figure size 432x288 with 1 Axes>"
      ]
     },
     "metadata": {
      "needs_background": "light"
     },
     "output_type": "display_data"
    }
   ],
   "source": [
    "# Visualize the 30-year Monte Carlo simulation by creating an\n",
    "# overlay line plot\n",
    "MC_sim_line = MC_thirtyyear.plot_simulation()\n",
    "MC_sim_line.get_figure()\n"
   ]
  },
  {
   "cell_type": "markdown",
   "metadata": {},
   "source": [
    "#### Step 3: Plot the probability distribution of the Monte Carlo simulation."
   ]
  },
  {
   "cell_type": "code",
   "execution_count": 113,
   "metadata": {},
   "outputs": [
    {
     "data": {
      "image/png": "[encoded data removed]",
      "text/plain": [
       "<Figure size 432x288 with 1 Axes>"
      ]
     },
     "execution_count": 113,
     "metadata": {},
     "output_type": "execute_result"
    },
    {
     "data": {
      "image/png": "[encoded data removed]",
      "text/plain": [
       "<Figure size 432x288 with 1 Axes>"
      ]
     },
     "metadata": {
      "needs_background": "light"
     },
     "output_type": "display_data"
    }
   ],
   "source": [
    "# Visualize the probability distribution of the 30-year Monte Carlo simulation \n",
    "# by plotting a histogram\n",
    "MC_sim_hist = MC_thirtyyear.plot_distribution()\n",
    "MC_sim_hist.get_figure()"
   ]
  },
  {
   "cell_type": "markdown",
   "metadata": {},
   "source": [
    "#### Step 4: Generate the summary statistics for the Monte Carlo simulation."
   ]
  },
  {
   "cell_type": "code",
   "execution_count": 114,
   "metadata": {},
   "outputs": [
    {
     "data": {
      "text/plain": [
       "count           500.000000\n",
       "mean              5.031990\n",
       "std               4.546239\n",
       "min               0.354548\n",
       "25%               2.159290\n",
       "50%               3.778077\n",
       "75%               6.160393\n",
       "max              31.666624\n",
       "95% CI Lower      0.763904\n",
       "95% CI Upper     17.391476\n",
       "Name: 7560, dtype: float64"
      ]
     },
     "execution_count": 114,
     "metadata": {},
     "output_type": "execute_result"
    }
   ],
   "source": [
    "# Generate summary statistics from the 30-year Monte Carlo simulation results\n",
    "# Save the results as a variable\n",
    "MC_summary_stats = MC_thirtyyear.summarize_cumulative_return()\n",
    "\n",
    "\n",
    "# Review the 30-year Monte Carlo summary statistics\n",
    "MC_summary_stats"
   ]
  },
  {
   "cell_type": "markdown",
   "metadata": {},
   "source": [
    "### Analyze the Retirement Portfolio Forecasts\n",
    "\n",
    "Using the current value of only the stock and bond portion of the member's portfolio and the summary statistics that you generated from the Monte Carlo simulation, answer the following question in your Jupyter notebook:\n",
    "\n",
    "-  What are the lower and upper bounds for the expected value of the portfolio with a 95% confidence interval?\n"
   ]
  },
  {
   "cell_type": "code",
   "execution_count": 118,
   "metadata": {},
   "outputs": [
    {
     "name": "stdout",
     "output_type": "stream",
     "text": [
      "Your current balance is,timestamp\n",
      "2022-07-13 04:00:00+00:00    93290.744\n",
      "Name: close, dtype: float64\n"
     ]
    }
   ],
   "source": [
    "# Print the current balance of the stock and bond portion of the members portfolio\n",
    "print(f'Your current balance is,{total_portfolio}')\n"
   ]
  },
  {
   "cell_type": "code",
   "execution_count": 124,
   "metadata": {},
   "outputs": [
    {
     "ename": "SyntaxError",
     "evalue": "invalid syntax (977673583.py, line 6)",
     "output_type": "error",
     "traceback": [
      "\u001b[1;36m  File \u001b[1;32m\"C:\\Users\\qstro\\AppData\\Local\\Temp\\ipykernel_9928\\977673583.py\"\u001b[1;36m, line \u001b[1;32m6\u001b[0m\n\u001b[1;33m    print(f'We predict with 95% confidence that your portfolio investment valued at', {total_portfolio} f'would be worth no less than',{ci_lower_thirty_cumulative_return} f'and no more than', {ci_upper_thirty_cumulative_return})\u001b[0m\n\u001b[1;37m                                                                                                                                     ^\u001b[0m\n\u001b[1;31mSyntaxError\u001b[0m\u001b[1;31m:\u001b[0m invalid syntax\n"
     ]
    }
   ],
   "source": [
    "# Use the lower and upper `95%` confidence intervals to calculate the range of the possible outcomes for the current stock/bond portfolio\n",
    "ci_lower_thirty_cumulative_return = total_portfolio * MC_summary_stats[8]\n",
    "ci_upper_thirty_cumulative_return = total_portfolio * MC_summary_stats[9]\n",
    "\n",
    "# Print the result of your calculations\n",
    "print(f'We predict with 95% confidence that your portfolio investment valued at', {total_portfolio} f'would be worth no less than',{ci_lower_thirty_cumulative_return} f'and no more than', {ci_upper_thirty_cumulative_return})\n"
   ]
  },
  {
   "cell_type": "markdown",
   "metadata": {},
   "source": [
    "### Forecast Cumulative Returns in 10 Years\n",
    "\n",
    "The CTO of the credit union is impressed with your work on these planning tools but wonders if 30 years is a long time to wait until retirement. So, your next task is to adjust the retirement portfolio and run a new Monte Carlo simulation to find out if the changes will allow members to retire earlier.\n",
    "\n",
    "For this new Monte Carlo simulation, do the following: \n",
    "\n",
    "- Forecast the cumulative returns for 10 years from now. Because of the shortened investment horizon (30 years to 10 years), the portfolio needs to invest more heavily in the riskier asset&mdash;that is, stock&mdash;to help accumulate wealth for retirement. \n",
    "\n",
    "- Adjust the weights of the retirement portfolio so that the composition for the Monte Carlo simulation consists of 20% bonds and 80% stocks. \n",
    "\n",
    "- Run the simulation over 500 samples, and use the same data that the API call to Alpaca generated.\n",
    "\n",
    "- Based on the new Monte Carlo simulation, answer the following questions in your Jupyter notebook:\n",
    "\n",
    "    - Using the current value of only the stock and bond portion of the member's portfolio and the summary statistics that you generated from the new Monte Carlo simulation, what are the lower and upper bounds for the expected value of the portfolio (with the new weights) with a 95% confidence interval?\n",
    "\n",
    "    - Will weighting the portfolio more heavily toward stocks allow the credit union members to retire after only 10 years?\n"
   ]
  },
  {
   "cell_type": "code",
   "execution_count": 129,
   "metadata": {},
   "outputs": [
    {
     "data": {
      "text/html": [
       "<div>\n",
       "<style scoped>\n",
       "    .dataframe tbody tr th:only-of-type {\n",
       "        vertical-align: middle;\n",
       "    }\n",
       "\n",
       "    .dataframe tbody tr th {\n",
       "        vertical-align: top;\n",
       "    }\n",
       "\n",
       "    .dataframe thead tr th {\n",
       "        text-align: left;\n",
       "    }\n",
       "\n",
       "    .dataframe thead tr:last-of-type th {\n",
       "        text-align: right;\n",
       "    }\n",
       "</style>\n",
       "<table border=\"1\" class=\"dataframe\">\n",
       "  <thead>\n",
       "    <tr>\n",
       "      <th></th>\n",
       "      <th colspan=\"8\" halign=\"left\">SPY</th>\n",
       "      <th colspan=\"8\" halign=\"left\">AGG</th>\n",
       "    </tr>\n",
       "    <tr>\n",
       "      <th></th>\n",
       "      <th>open</th>\n",
       "      <th>high</th>\n",
       "      <th>low</th>\n",
       "      <th>close</th>\n",
       "      <th>volume</th>\n",
       "      <th>trade_count</th>\n",
       "      <th>vwap</th>\n",
       "      <th>daily_return</th>\n",
       "      <th>open</th>\n",
       "      <th>high</th>\n",
       "      <th>low</th>\n",
       "      <th>close</th>\n",
       "      <th>volume</th>\n",
       "      <th>trade_count</th>\n",
       "      <th>vwap</th>\n",
       "      <th>daily_return</th>\n",
       "    </tr>\n",
       "    <tr>\n",
       "      <th>timestamp</th>\n",
       "      <th></th>\n",
       "      <th></th>\n",
       "      <th></th>\n",
       "      <th></th>\n",
       "      <th></th>\n",
       "      <th></th>\n",
       "      <th></th>\n",
       "      <th></th>\n",
       "      <th></th>\n",
       "      <th></th>\n",
       "      <th></th>\n",
       "      <th></th>\n",
       "      <th></th>\n",
       "      <th></th>\n",
       "      <th></th>\n",
       "      <th></th>\n",
       "    </tr>\n",
       "  </thead>\n",
       "  <tbody>\n",
       "    <tr>\n",
       "      <th>2019-07-15 04:00:00+00:00</th>\n",
       "      <td>301.12</td>\n",
       "      <td>301.13</td>\n",
       "      <td>300.19</td>\n",
       "      <td>300.75</td>\n",
       "      <td>33992129</td>\n",
       "      <td>149900</td>\n",
       "      <td>300.605019</td>\n",
       "      <td>NaN</td>\n",
       "      <td>110.87</td>\n",
       "      <td>110.960</td>\n",
       "      <td>110.85</td>\n",
       "      <td>110.95</td>\n",
       "      <td>3619089</td>\n",
       "      <td>10885</td>\n",
       "      <td>110.925638</td>\n",
       "      <td>NaN</td>\n",
       "    </tr>\n",
       "    <tr>\n",
       "      <th>2019-07-16 04:00:00+00:00</th>\n",
       "      <td>300.64</td>\n",
       "      <td>300.88</td>\n",
       "      <td>299.44</td>\n",
       "      <td>299.71</td>\n",
       "      <td>40807546</td>\n",
       "      <td>183816</td>\n",
       "      <td>300.108039</td>\n",
       "      <td>-0.003458</td>\n",
       "      <td>110.75</td>\n",
       "      <td>110.830</td>\n",
       "      <td>110.64</td>\n",
       "      <td>110.83</td>\n",
       "      <td>2149083</td>\n",
       "      <td>12676</td>\n",
       "      <td>110.743438</td>\n",
       "      <td>-0.001082</td>\n",
       "    </tr>\n",
       "    <tr>\n",
       "      <th>2019-07-17 04:00:00+00:00</th>\n",
       "      <td>299.77</td>\n",
       "      <td>299.93</td>\n",
       "      <td>297.74</td>\n",
       "      <td>297.74</td>\n",
       "      <td>44343835</td>\n",
       "      <td>200151</td>\n",
       "      <td>298.543544</td>\n",
       "      <td>-0.006573</td>\n",
       "      <td>110.93</td>\n",
       "      <td>111.140</td>\n",
       "      <td>110.91</td>\n",
       "      <td>111.12</td>\n",
       "      <td>2985610</td>\n",
       "      <td>11771</td>\n",
       "      <td>111.066605</td>\n",
       "      <td>0.002617</td>\n",
       "    </tr>\n",
       "    <tr>\n",
       "      <th>2019-07-18 04:00:00+00:00</th>\n",
       "      <td>297.18</td>\n",
       "      <td>299.25</td>\n",
       "      <td>296.70</td>\n",
       "      <td>298.83</td>\n",
       "      <td>53567032</td>\n",
       "      <td>236661</td>\n",
       "      <td>298.067797</td>\n",
       "      <td>0.003661</td>\n",
       "      <td>111.10</td>\n",
       "      <td>111.330</td>\n",
       "      <td>111.06</td>\n",
       "      <td>111.30</td>\n",
       "      <td>5982223</td>\n",
       "      <td>17331</td>\n",
       "      <td>111.220550</td>\n",
       "      <td>0.001620</td>\n",
       "    </tr>\n",
       "    <tr>\n",
       "      <th>2019-07-19 04:00:00+00:00</th>\n",
       "      <td>300.01</td>\n",
       "      <td>300.07</td>\n",
       "      <td>296.96</td>\n",
       "      <td>297.17</td>\n",
       "      <td>76794138</td>\n",
       "      <td>260715</td>\n",
       "      <td>298.617649</td>\n",
       "      <td>-0.005555</td>\n",
       "      <td>111.22</td>\n",
       "      <td>111.286</td>\n",
       "      <td>111.14</td>\n",
       "      <td>111.17</td>\n",
       "      <td>3150774</td>\n",
       "      <td>9948</td>\n",
       "      <td>111.225017</td>\n",
       "      <td>-0.001168</td>\n",
       "    </tr>\n",
       "  </tbody>\n",
       "</table>\n",
       "</div>"
      ],
      "text/plain": [
       "                              SPY                                    \\\n",
       "                             open    high     low   close    volume   \n",
       "timestamp                                                             \n",
       "2019-07-15 04:00:00+00:00  301.12  301.13  300.19  300.75  33992129   \n",
       "2019-07-16 04:00:00+00:00  300.64  300.88  299.44  299.71  40807546   \n",
       "2019-07-17 04:00:00+00:00  299.77  299.93  297.74  297.74  44343835   \n",
       "2019-07-18 04:00:00+00:00  297.18  299.25  296.70  298.83  53567032   \n",
       "2019-07-19 04:00:00+00:00  300.01  300.07  296.96  297.17  76794138   \n",
       "\n",
       "                                                                   AGG  \\\n",
       "                          trade_count        vwap daily_return    open   \n",
       "timestamp                                                                \n",
       "2019-07-15 04:00:00+00:00      149900  300.605019          NaN  110.87   \n",
       "2019-07-16 04:00:00+00:00      183816  300.108039    -0.003458  110.75   \n",
       "2019-07-17 04:00:00+00:00      200151  298.543544    -0.006573  110.93   \n",
       "2019-07-18 04:00:00+00:00      236661  298.067797     0.003661  111.10   \n",
       "2019-07-19 04:00:00+00:00      260715  298.617649    -0.005555  111.22   \n",
       "\n",
       "                                                                         \\\n",
       "                              high     low   close   volume trade_count   \n",
       "timestamp                                                                 \n",
       "2019-07-15 04:00:00+00:00  110.960  110.85  110.95  3619089       10885   \n",
       "2019-07-16 04:00:00+00:00  110.830  110.64  110.83  2149083       12676   \n",
       "2019-07-17 04:00:00+00:00  111.140  110.91  111.12  2985610       11771   \n",
       "2019-07-18 04:00:00+00:00  111.330  111.06  111.30  5982223       17331   \n",
       "2019-07-19 04:00:00+00:00  111.286  111.14  111.17  3150774        9948   \n",
       "\n",
       "                                                    \n",
       "                                 vwap daily_return  \n",
       "timestamp                                           \n",
       "2019-07-15 04:00:00+00:00  110.925638          NaN  \n",
       "2019-07-16 04:00:00+00:00  110.743438    -0.001082  \n",
       "2019-07-17 04:00:00+00:00  111.066605     0.002617  \n",
       "2019-07-18 04:00:00+00:00  111.220550     0.001620  \n",
       "2019-07-19 04:00:00+00:00  111.225017    -0.001168  "
      ]
     },
     "execution_count": 129,
     "metadata": {},
     "output_type": "execute_result"
    }
   ],
   "source": [
    "# Configure a Monte Carlo simulation to forecast 10 years cumulative returns\n",
    "# The weights should be split 20% to AGG and 80% to SPY.\n",
    "# Run 500 samples.\n",
    "MC_tenyear = MCSimulation(\n",
    "    portfolio_data = portfolio_df,\n",
    "    weights=[.80,.20],\n",
    "    num_simulation=500,\n",
    "    num_trading_days=252*10\n",
    ")\n",
    "# Review the simulation input data\n",
    "MC_tenyear.portfolio_data.head()"
   ]
  },
  {
   "cell_type": "code",
   "execution_count": 130,
   "metadata": {},
   "outputs": [
    {
     "name": "stdout",
     "output_type": "stream",
     "text": [
      "Running Monte Carlo simulation number 0.\n",
      "Running Monte Carlo simulation number 10.\n",
      "Running Monte Carlo simulation number 20.\n",
      "Running Monte Carlo simulation number 30.\n",
      "Running Monte Carlo simulation number 40.\n",
      "Running Monte Carlo simulation number 50.\n",
      "Running Monte Carlo simulation number 60.\n",
      "Running Monte Carlo simulation number 70.\n",
      "Running Monte Carlo simulation number 80.\n",
      "Running Monte Carlo simulation number 90.\n",
      "Running Monte Carlo simulation number 100.\n"
     ]
    },
    {
     "name": "stderr",
     "output_type": "stream",
     "text": [
      "C:\\Users\\qstro\\OneDrive\\Desktop\\Challenge Files\\Challenge_5\\Starter_Code\\Financial_Planner\\MCForecastTools.py:117: PerformanceWarning: DataFrame is highly fragmented.  This is usually the result of calling `frame.insert` many times, which has poor performance.  Consider joining all columns at once using pd.concat(axis=1) instead.  To get a de-fragmented frame, use `newframe = frame.copy()`\n",
      "  portfolio_cumulative_returns[n] = (1 + sim_df.fillna(0)).cumprod()\n"
     ]
    },
    {
     "name": "stdout",
     "output_type": "stream",
     "text": [
      "Running Monte Carlo simulation number 110.\n",
      "Running Monte Carlo simulation number 120.\n",
      "Running Monte Carlo simulation number 130.\n",
      "Running Monte Carlo simulation number 140.\n",
      "Running Monte Carlo simulation number 150.\n",
      "Running Monte Carlo simulation number 160.\n",
      "Running Monte Carlo simulation number 170.\n",
      "Running Monte Carlo simulation number 180.\n",
      "Running Monte Carlo simulation number 190.\n",
      "Running Monte Carlo simulation number 200.\n",
      "Running Monte Carlo simulation number 210.\n",
      "Running Monte Carlo simulation number 220.\n",
      "Running Monte Carlo simulation number 230.\n",
      "Running Monte Carlo simulation number 240.\n",
      "Running Monte Carlo simulation number 250.\n",
      "Running Monte Carlo simulation number 260.\n",
      "Running Monte Carlo simulation number 270.\n",
      "Running Monte Carlo simulation number 280.\n",
      "Running Monte Carlo simulation number 290.\n",
      "Running Monte Carlo simulation number 300.\n",
      "Running Monte Carlo simulation number 310.\n",
      "Running Monte Carlo simulation number 320.\n",
      "Running Monte Carlo simulation number 330.\n",
      "Running Monte Carlo simulation number 340.\n",
      "Running Monte Carlo simulation number 350.\n",
      "Running Monte Carlo simulation number 360.\n",
      "Running Monte Carlo simulation number 370.\n",
      "Running Monte Carlo simulation number 380.\n",
      "Running Monte Carlo simulation number 390.\n",
      "Running Monte Carlo simulation number 400.\n",
      "Running Monte Carlo simulation number 410.\n",
      "Running Monte Carlo simulation number 420.\n",
      "Running Monte Carlo simulation number 430.\n",
      "Running Monte Carlo simulation number 440.\n",
      "Running Monte Carlo simulation number 450.\n",
      "Running Monte Carlo simulation number 460.\n",
      "Running Monte Carlo simulation number 470.\n",
      "Running Monte Carlo simulation number 480.\n",
      "Running Monte Carlo simulation number 490.\n"
     ]
    },
    {
     "data": {
      "text/html": [
       "<div>\n",
       "<style scoped>\n",
       "    .dataframe tbody tr th:only-of-type {\n",
       "        vertical-align: middle;\n",
       "    }\n",
       "\n",
       "    .dataframe tbody tr th {\n",
       "        vertical-align: top;\n",
       "    }\n",
       "\n",
       "    .dataframe thead th {\n",
       "        text-align: right;\n",
       "    }\n",
       "</style>\n",
       "<table border=\"1\" class=\"dataframe\">\n",
       "  <thead>\n",
       "    <tr style=\"text-align: right;\">\n",
       "      <th></th>\n",
       "      <th>0</th>\n",
       "      <th>1</th>\n",
       "      <th>2</th>\n",
       "      <th>3</th>\n",
       "      <th>4</th>\n",
       "      <th>5</th>\n",
       "      <th>6</th>\n",
       "      <th>7</th>\n",
       "      <th>8</th>\n",
       "      <th>9</th>\n",
       "      <th>...</th>\n",
       "      <th>490</th>\n",
       "      <th>491</th>\n",
       "      <th>492</th>\n",
       "      <th>493</th>\n",
       "      <th>494</th>\n",
       "      <th>495</th>\n",
       "      <th>496</th>\n",
       "      <th>497</th>\n",
       "      <th>498</th>\n",
       "      <th>499</th>\n",
       "    </tr>\n",
       "  </thead>\n",
       "  <tbody>\n",
       "    <tr>\n",
       "      <th>0</th>\n",
       "      <td>1.000000</td>\n",
       "      <td>1.000000</td>\n",
       "      <td>1.000000</td>\n",
       "      <td>1.000000</td>\n",
       "      <td>1.000000</td>\n",
       "      <td>1.000000</td>\n",
       "      <td>1.000000</td>\n",
       "      <td>1.000000</td>\n",
       "      <td>1.000000</td>\n",
       "      <td>1.000000</td>\n",
       "      <td>...</td>\n",
       "      <td>1.000000</td>\n",
       "      <td>1.000000</td>\n",
       "      <td>1.000000</td>\n",
       "      <td>1.000000</td>\n",
       "      <td>1.000000</td>\n",
       "      <td>1.000000</td>\n",
       "      <td>1.000000</td>\n",
       "      <td>1.000000</td>\n",
       "      <td>1.000000</td>\n",
       "      <td>1.000000</td>\n",
       "    </tr>\n",
       "    <tr>\n",
       "      <th>1</th>\n",
       "      <td>1.013266</td>\n",
       "      <td>1.000978</td>\n",
       "      <td>0.996019</td>\n",
       "      <td>0.994461</td>\n",
       "      <td>0.994717</td>\n",
       "      <td>0.987892</td>\n",
       "      <td>0.996336</td>\n",
       "      <td>1.025318</td>\n",
       "      <td>1.013835</td>\n",
       "      <td>1.009003</td>\n",
       "      <td>...</td>\n",
       "      <td>1.013644</td>\n",
       "      <td>0.996753</td>\n",
       "      <td>0.993314</td>\n",
       "      <td>1.018406</td>\n",
       "      <td>1.017472</td>\n",
       "      <td>0.988180</td>\n",
       "      <td>1.009661</td>\n",
       "      <td>1.009264</td>\n",
       "      <td>0.983374</td>\n",
       "      <td>1.015297</td>\n",
       "    </tr>\n",
       "    <tr>\n",
       "      <th>2</th>\n",
       "      <td>1.000145</td>\n",
       "      <td>1.002866</td>\n",
       "      <td>0.991459</td>\n",
       "      <td>1.007914</td>\n",
       "      <td>1.000668</td>\n",
       "      <td>0.985481</td>\n",
       "      <td>0.989178</td>\n",
       "      <td>1.019646</td>\n",
       "      <td>1.026345</td>\n",
       "      <td>1.009062</td>\n",
       "      <td>...</td>\n",
       "      <td>0.996339</td>\n",
       "      <td>0.981024</td>\n",
       "      <td>1.003455</td>\n",
       "      <td>1.007135</td>\n",
       "      <td>1.016523</td>\n",
       "      <td>1.010940</td>\n",
       "      <td>0.998003</td>\n",
       "      <td>1.018535</td>\n",
       "      <td>0.979231</td>\n",
       "      <td>1.006225</td>\n",
       "    </tr>\n",
       "    <tr>\n",
       "      <th>3</th>\n",
       "      <td>0.980359</td>\n",
       "      <td>0.992603</td>\n",
       "      <td>1.002799</td>\n",
       "      <td>1.021349</td>\n",
       "      <td>1.015705</td>\n",
       "      <td>0.985413</td>\n",
       "      <td>0.994397</td>\n",
       "      <td>1.008234</td>\n",
       "      <td>1.015529</td>\n",
       "      <td>0.996816</td>\n",
       "      <td>...</td>\n",
       "      <td>1.000711</td>\n",
       "      <td>0.978472</td>\n",
       "      <td>1.000520</td>\n",
       "      <td>0.994542</td>\n",
       "      <td>1.024752</td>\n",
       "      <td>0.997733</td>\n",
       "      <td>1.001475</td>\n",
       "      <td>1.022898</td>\n",
       "      <td>0.978062</td>\n",
       "      <td>1.002404</td>\n",
       "    </tr>\n",
       "    <tr>\n",
       "      <th>4</th>\n",
       "      <td>0.952613</td>\n",
       "      <td>0.998752</td>\n",
       "      <td>1.013263</td>\n",
       "      <td>1.050762</td>\n",
       "      <td>1.003401</td>\n",
       "      <td>0.987817</td>\n",
       "      <td>0.990976</td>\n",
       "      <td>1.027320</td>\n",
       "      <td>1.003658</td>\n",
       "      <td>0.965136</td>\n",
       "      <td>...</td>\n",
       "      <td>1.003485</td>\n",
       "      <td>0.960002</td>\n",
       "      <td>1.005479</td>\n",
       "      <td>1.011254</td>\n",
       "      <td>1.014531</td>\n",
       "      <td>0.973849</td>\n",
       "      <td>1.001754</td>\n",
       "      <td>1.031435</td>\n",
       "      <td>0.979388</td>\n",
       "      <td>1.009557</td>\n",
       "    </tr>\n",
       "    <tr>\n",
       "      <th>...</th>\n",
       "      <td>...</td>\n",
       "      <td>...</td>\n",
       "      <td>...</td>\n",
       "      <td>...</td>\n",
       "      <td>...</td>\n",
       "      <td>...</td>\n",
       "      <td>...</td>\n",
       "      <td>...</td>\n",
       "      <td>...</td>\n",
       "      <td>...</td>\n",
       "      <td>...</td>\n",
       "      <td>...</td>\n",
       "      <td>...</td>\n",
       "      <td>...</td>\n",
       "      <td>...</td>\n",
       "      <td>...</td>\n",
       "      <td>...</td>\n",
       "      <td>...</td>\n",
       "      <td>...</td>\n",
       "      <td>...</td>\n",
       "      <td>...</td>\n",
       "    </tr>\n",
       "    <tr>\n",
       "      <th>2516</th>\n",
       "      <td>1.927119</td>\n",
       "      <td>2.070725</td>\n",
       "      <td>0.975875</td>\n",
       "      <td>2.022177</td>\n",
       "      <td>2.437442</td>\n",
       "      <td>3.183827</td>\n",
       "      <td>1.042788</td>\n",
       "      <td>2.108119</td>\n",
       "      <td>4.189309</td>\n",
       "      <td>2.449326</td>\n",
       "      <td>...</td>\n",
       "      <td>1.463408</td>\n",
       "      <td>1.005048</td>\n",
       "      <td>2.098907</td>\n",
       "      <td>0.645404</td>\n",
       "      <td>0.980429</td>\n",
       "      <td>2.068973</td>\n",
       "      <td>2.451592</td>\n",
       "      <td>2.215590</td>\n",
       "      <td>1.596072</td>\n",
       "      <td>2.006365</td>\n",
       "    </tr>\n",
       "    <tr>\n",
       "      <th>2517</th>\n",
       "      <td>1.932877</td>\n",
       "      <td>2.095558</td>\n",
       "      <td>1.013123</td>\n",
       "      <td>1.982375</td>\n",
       "      <td>2.413040</td>\n",
       "      <td>3.196683</td>\n",
       "      <td>1.039758</td>\n",
       "      <td>2.144912</td>\n",
       "      <td>4.179242</td>\n",
       "      <td>2.438479</td>\n",
       "      <td>...</td>\n",
       "      <td>1.455358</td>\n",
       "      <td>1.023883</td>\n",
       "      <td>2.092457</td>\n",
       "      <td>0.627913</td>\n",
       "      <td>0.967277</td>\n",
       "      <td>2.047392</td>\n",
       "      <td>2.474699</td>\n",
       "      <td>2.261741</td>\n",
       "      <td>1.601555</td>\n",
       "      <td>1.972072</td>\n",
       "    </tr>\n",
       "    <tr>\n",
       "      <th>2518</th>\n",
       "      <td>1.892128</td>\n",
       "      <td>2.111482</td>\n",
       "      <td>1.018573</td>\n",
       "      <td>2.036420</td>\n",
       "      <td>2.405771</td>\n",
       "      <td>3.203415</td>\n",
       "      <td>1.048274</td>\n",
       "      <td>2.132120</td>\n",
       "      <td>4.150212</td>\n",
       "      <td>2.403728</td>\n",
       "      <td>...</td>\n",
       "      <td>1.432161</td>\n",
       "      <td>1.022667</td>\n",
       "      <td>2.053009</td>\n",
       "      <td>0.623332</td>\n",
       "      <td>0.943696</td>\n",
       "      <td>2.045980</td>\n",
       "      <td>2.467795</td>\n",
       "      <td>2.269260</td>\n",
       "      <td>1.609976</td>\n",
       "      <td>1.952633</td>\n",
       "    </tr>\n",
       "    <tr>\n",
       "      <th>2519</th>\n",
       "      <td>1.877657</td>\n",
       "      <td>2.106528</td>\n",
       "      <td>1.014596</td>\n",
       "      <td>2.045993</td>\n",
       "      <td>2.410427</td>\n",
       "      <td>3.222512</td>\n",
       "      <td>1.057590</td>\n",
       "      <td>2.154434</td>\n",
       "      <td>4.140249</td>\n",
       "      <td>2.439469</td>\n",
       "      <td>...</td>\n",
       "      <td>1.454721</td>\n",
       "      <td>1.043764</td>\n",
       "      <td>2.049063</td>\n",
       "      <td>0.617188</td>\n",
       "      <td>0.956127</td>\n",
       "      <td>2.055702</td>\n",
       "      <td>2.453517</td>\n",
       "      <td>2.248517</td>\n",
       "      <td>1.627979</td>\n",
       "      <td>1.992821</td>\n",
       "    </tr>\n",
       "    <tr>\n",
       "      <th>2520</th>\n",
       "      <td>1.876411</td>\n",
       "      <td>2.103903</td>\n",
       "      <td>0.998628</td>\n",
       "      <td>2.017724</td>\n",
       "      <td>2.369498</td>\n",
       "      <td>3.188360</td>\n",
       "      <td>1.052400</td>\n",
       "      <td>2.170794</td>\n",
       "      <td>4.179215</td>\n",
       "      <td>2.410866</td>\n",
       "      <td>...</td>\n",
       "      <td>1.455352</td>\n",
       "      <td>1.058595</td>\n",
       "      <td>2.041796</td>\n",
       "      <td>0.620794</td>\n",
       "      <td>0.970798</td>\n",
       "      <td>2.026929</td>\n",
       "      <td>2.430694</td>\n",
       "      <td>2.271427</td>\n",
       "      <td>1.651932</td>\n",
       "      <td>1.979741</td>\n",
       "    </tr>\n",
       "  </tbody>\n",
       "</table>\n",
       "<p>2521 rows × 500 columns</p>\n",
       "</div>"
      ],
      "text/plain": [
       "           0         1         2         3         4         5         6    \\\n",
       "0     1.000000  1.000000  1.000000  1.000000  1.000000  1.000000  1.000000   \n",
       "1     1.013266  1.000978  0.996019  0.994461  0.994717  0.987892  0.996336   \n",
       "2     1.000145  1.002866  0.991459  1.007914  1.000668  0.985481  0.989178   \n",
       "3     0.980359  0.992603  1.002799  1.021349  1.015705  0.985413  0.994397   \n",
       "4     0.952613  0.998752  1.013263  1.050762  1.003401  0.987817  0.990976   \n",
       "...        ...       ...       ...       ...       ...       ...       ...   \n",
       "2516  1.927119  2.070725  0.975875  2.022177  2.437442  3.183827  1.042788   \n",
       "2517  1.932877  2.095558  1.013123  1.982375  2.413040  3.196683  1.039758   \n",
       "2518  1.892128  2.111482  1.018573  2.036420  2.405771  3.203415  1.048274   \n",
       "2519  1.877657  2.106528  1.014596  2.045993  2.410427  3.222512  1.057590   \n",
       "2520  1.876411  2.103903  0.998628  2.017724  2.369498  3.188360  1.052400   \n",
       "\n",
       "           7         8         9    ...       490       491       492  \\\n",
       "0     1.000000  1.000000  1.000000  ...  1.000000  1.000000  1.000000   \n",
       "1     1.025318  1.013835  1.009003  ...  1.013644  0.996753  0.993314   \n",
       "2     1.019646  1.026345  1.009062  ...  0.996339  0.981024  1.003455   \n",
       "3     1.008234  1.015529  0.996816  ...  1.000711  0.978472  1.000520   \n",
       "4     1.027320  1.003658  0.965136  ...  1.003485  0.960002  1.005479   \n",
       "...        ...       ...       ...  ...       ...       ...       ...   \n",
       "2516  2.108119  4.189309  2.449326  ...  1.463408  1.005048  2.098907   \n",
       "2517  2.144912  4.179242  2.438479  ...  1.455358  1.023883  2.092457   \n",
       "2518  2.132120  4.150212  2.403728  ...  1.432161  1.022667  2.053009   \n",
       "2519  2.154434  4.140249  2.439469  ...  1.454721  1.043764  2.049063   \n",
       "2520  2.170794  4.179215  2.410866  ...  1.455352  1.058595  2.041796   \n",
       "\n",
       "           493       494       495       496       497       498       499  \n",
       "0     1.000000  1.000000  1.000000  1.000000  1.000000  1.000000  1.000000  \n",
       "1     1.018406  1.017472  0.988180  1.009661  1.009264  0.983374  1.015297  \n",
       "2     1.007135  1.016523  1.010940  0.998003  1.018535  0.979231  1.006225  \n",
       "3     0.994542  1.024752  0.997733  1.001475  1.022898  0.978062  1.002404  \n",
       "4     1.011254  1.014531  0.973849  1.001754  1.031435  0.979388  1.009557  \n",
       "...        ...       ...       ...       ...       ...       ...       ...  \n",
       "2516  0.645404  0.980429  2.068973  2.451592  2.215590  1.596072  2.006365  \n",
       "2517  0.627913  0.967277  2.047392  2.474699  2.261741  1.601555  1.972072  \n",
       "2518  0.623332  0.943696  2.045980  2.467795  2.269260  1.609976  1.952633  \n",
       "2519  0.617188  0.956127  2.055702  2.453517  2.248517  1.627979  1.992821  \n",
       "2520  0.620794  0.970798  2.026929  2.430694  2.271427  1.651932  1.979741  \n",
       "\n",
       "[2521 rows x 500 columns]"
      ]
     },
     "execution_count": 130,
     "metadata": {},
     "output_type": "execute_result"
    }
   ],
   "source": [
    "# Run the Monte Carlo simulation to forecast 10 years cumulative returns\n",
    "MC_tenyear.calc_cumulative_return()\n"
   ]
  },
  {
   "cell_type": "code",
   "execution_count": 131,
   "metadata": {},
   "outputs": [
    {
     "data": {
      "image/png": "[encoded data removed]",
      "text/plain": [
       "<Figure size 432x288 with 1 Axes>"
      ]
     },
     "execution_count": 131,
     "metadata": {},
     "output_type": "execute_result"
    },
    {
     "data": {
      "image/png": "[encoded data removed]",
      "text/plain": [
       "<Figure size 432x288 with 1 Axes>"
      ]
     },
     "metadata": {
      "needs_background": "light"
     },
     "output_type": "display_data"
    }
   ],
   "source": [
    "# Visualize the 10-year Monte Carlo simulation by creating an\n",
    "# overlay line plot\n",
    "MC_ten_sim_line = MC_tenyear.plot_simulation()\n",
    "MC_ten_sim_line.get_figure()\n",
    "\n"
   ]
  },
  {
   "cell_type": "code",
   "execution_count": 132,
   "metadata": {},
   "outputs": [
    {
     "data": {
      "image/png": "[encoded data removed]",
      "text/plain": [
       "<Figure size 432x288 with 1 Axes>"
      ]
     },
     "execution_count": 132,
     "metadata": {},
     "output_type": "execute_result"
    },
    {
     "data": {
      "image/png": "[encoded data removed]",
      "text/plain": [
       "<Figure size 432x288 with 1 Axes>"
      ]
     },
     "metadata": {
      "needs_background": "light"
     },
     "output_type": "display_data"
    }
   ],
   "source": [
    "# Visualize the probability distribution of the 10-year Monte Carlo simulation \n",
    "# by plotting a histogram\n",
    "MC_ten_sim_hist = MC_tenyear.plot_distribution()\n",
    "MC_ten_sim_hist.get_figure()"
   ]
  },
  {
   "cell_type": "code",
   "execution_count": 133,
   "metadata": {},
   "outputs": [
    {
     "data": {
      "text/plain": [
       "count           500.000000\n",
       "mean              2.156142\n",
       "std               1.344283\n",
       "min               0.317662\n",
       "25%               1.242872\n",
       "50%               1.877087\n",
       "75%               2.572816\n",
       "max               8.952828\n",
       "95% CI Lower      0.617901\n",
       "95% CI Upper      5.672847\n",
       "Name: 2520, dtype: float64"
      ]
     },
     "execution_count": 133,
     "metadata": {},
     "output_type": "execute_result"
    }
   ],
   "source": [
    "# Generate summary statistics from the 10-year Monte Carlo simulation results\n",
    "# Save the results as a variable\n",
    "MC_ten_summary_stats = MC_tenyear.summarize_cumulative_return()\n",
    "\n",
    "# Review the 10-year Monte Carlo summary statistics\n",
    "MC_ten_summary_stats"
   ]
  },
  {
   "cell_type": "markdown",
   "metadata": {},
   "source": [
    "### Answer the following questions:"
   ]
  },
  {
   "cell_type": "markdown",
   "metadata": {},
   "source": [
    "#### Question: Using the current value of only the stock and bond portion of the member's portfolio and the summary statistics that you generated from the new Monte Carlo simulation, what are the lower and upper bounds for the expected value of the portfolio (with the new weights) with a 95% confidence interval?"
   ]
  },
  {
   "cell_type": "code",
   "execution_count": null,
   "metadata": {},
   "outputs": [],
   "source": [
    "# Print the current balance of the stock and bond portion of the members portfolio\n",
    "print(f'Your current balance is,{total_portfolio}')"
   ]
  },
  {
   "cell_type": "code",
   "execution_count": null,
   "metadata": {},
   "outputs": [],
   "source": [
    "# Use the lower and upper `95%` confidence intervals to calculate the range of the possible outcomes for the current stock/bond portfolio\n",
    "ci_lower_ten_cumulative_return = # YOUR CODE HERE\n",
    "ci_upper_ten_cumulative_return = # YOUR CODE HERE\n",
    "\n",
    "# Print the result of your calculations\n",
    "# YOUR CODE HERE\n"
   ]
  },
  {
   "cell_type": "markdown",
   "metadata": {},
   "source": [
    "#### Question: Will weighting the portfolio more heavily to stocks allow the credit union members to retire after only 10 years?"
   ]
  },
  {
   "cell_type": "raw",
   "metadata": {},
   "source": [
    "**Answer** # YOUR ANSWER HERE"
   ]
  },
  {
   "cell_type": "code",
   "execution_count": null,
   "metadata": {},
   "outputs": [],
   "source": []
  }
 ],
 "metadata": {
  "kernelspec": {
   "display_name": "Python 3 (ipykernel)",
   "language": "python",
   "name": "python3"
  },
  "language_info": {
   "codemirror_mode": {
    "name": "ipython",
    "version": 3
   },
   "file_extension": ".py",
   "mimetype": "text/x-python",
   "name": "python",
   "nbconvert_exporter": "python",
   "pygments_lexer": "ipython3",
   "version": "3.7.13"
  }
 },
 "nbformat": 4,
 "nbformat_minor": 4
}
